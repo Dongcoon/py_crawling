{
 "cells": [
  {
   "cell_type": "markdown",
   "id": "15cff57a-cac3-447a-8004-0f5f520e6dc0",
   "metadata": {},
   "source": [
    "### 크롤링 실습 4\n",
    "   + jtbc news 사이트의 **속보 페이지**에서\n",
    "   + **제목, 기사미리보기, 카테고리, 기자명, 송고날짜**를 추출\n",
    "   + title, preview, category, reporter, pdate\n",
    "   + 단, **2021-07-20부터 21-07-15**까지의 뉴스를 대상으로 한다."
   ]
  },
  {
   "cell_type": "code",
   "execution_count": 22,
   "id": "a9806197-dd32-41ff-968d-35035bd4ec65",
   "metadata": {},
   "outputs": [],
   "source": [
    "import requests\n",
    "from lxml import html"
   ]
  },
  {
   "cell_type": "code",
   "execution_count": 23,
   "id": "6b2b7252-3039-44fd-af45-bb62e5a01eb5",
   "metadata": {},
   "outputs": [],
   "source": [
    "url = 'https://news.jtbc.co.kr/section/list.aspx'\n",
    "headers = {'user-agent':'Mozilla/5.0 (Windows NT 10.0; Win64; x64) AppleWebKit/537.36 (KHTML, like Gecko) Chrome/106.0.0.0 Safari/537.36'}"
   ]
  },
  {
   "cell_type": "code",
   "execution_count": 24,
   "id": "7b442388-c385-4376-9602-6ca86503f000",
   "metadata": {},
   "outputs": [],
   "source": [
    "def to24h(time):\n",
    "    # 2022-10-26 오전 11:56:00\n",
    "    pd = time.split(' ')\n",
    "    pt = pd[2].split(':')\n",
    "    \n",
    "    if (pd[1] == '오후') and (pt[0] != '12'):\n",
    "        pt[0] = int(pt[0]) + 12\n",
    "        \n",
    "    elif (pd[1] == '오전') and (pt[0] == '12'):\n",
    "        pt[0] = int(pt[0]) - 12\n",
    "        \n",
    "    time = f'{pd[0]} {pt[0]}:{pt[1]}:{pt[2]}'\n",
    "    return time"
   ]
  },
  {
   "cell_type": "code",
   "execution_count": 16,
   "id": "a7a3f169-8f19-47e2-b596-9875d24ad670",
   "metadata": {},
   "outputs": [
    {
     "data": {
      "text/plain": [
       "90"
      ]
     },
     "execution_count": 16,
     "metadata": {},
     "output_type": "execute_result"
    }
   ],
   "source": [
    "len(titles)"
   ]
  },
  {
   "cell_type": "code",
   "execution_count": null,
   "id": "4b7cdf8f-e234-442b-a8c8-07ce1ba78797",
   "metadata": {},
   "outputs": [],
   "source": [
    "titles,contents = [],[]\n",
    "category,writers,regdate = [],[],[]\n",
    "news = [titles,contents,category,writers,regdate]\n",
    "\n",
    "for i in range(20210715,20210720+1):\n",
    "# 질의문자열을 위해 params 변수 정의\n",
    "    params = {'pdate': i}\n",
    "    res = requests.get(url, headers=headers, params=params)\n",
    "    doctree = html.fromstring(res.text)\n",
    "\n",
    "    docs = doctree.cssselect('dt.title_cr a')\n",
    "    for title in docs:\n",
    "        tit = title.text_content().replace(',','|')\n",
    "        titles.append(tit)\n",
    "\n",
    "    docs = doctree.cssselect('dd.desc a')\n",
    "    for content in docs:\n",
    "        cnt = content.text_content().strip().replace('   ','').replace(',','|')\n",
    "        contents.append(cnt)\n",
    "\n",
    "    docs = doctree.cssselect('span.location')\n",
    "    for ctg in docs:\n",
    "        cate = ctg.text_content().replace('[','').replace(']','').replace('JTBC','').replace('연합','').replace('>','').strip().replace(',','|').replace('\\t','').replace('\\n','')\n",
    "        category.append(cate)\n",
    "\n",
    "    docs = doctree.cssselect('span.writer') \n",
    "    for writer in docs:\n",
    "        wrt = writer.text_content().strip().replace(',','|')\n",
    "        writers.append(wrt)\n",
    "\n",
    "    docs = doctree.cssselect('span.date') \n",
    "    for rgd in docs:\n",
    "        pdate = rgd.text_content().strip().replace(',','|')\n",
    "        regdate.append(to24h(pdate))\n",
    "print(news)"
   ]
  },
  {
   "cell_type": "code",
   "execution_count": 26,
   "id": "8a7610c2-ba8b-4c27-b038-6068c3d74df4",
   "metadata": {},
   "outputs": [],
   "source": [
    "header = '제목,기사미리보기,카테고리,기자,날짜\\t\\n'\n",
    "with open('data/JTBC_P.csv','a',encoding='utf-8') as f:\n",
    "    f.write(header)\n",
    "    for i in range(len(titles)):\n",
    "        title, content, ctg, writer, rgd = titles[i],contents[i],category[i], writers[i], regdate[i]\n",
    "        f.write(f'\"{title}\",\"{content}\",\"{ctg}\",\"{writer}\",{rgd}\\n')"
   ]
  },
  {
   "cell_type": "code",
   "execution_count": null,
   "id": "9467a0db-44ee-48f5-87c3-4dda3bca32ce",
   "metadata": {},
   "outputs": [],
   "source": [
    "titles"
   ]
  },
  {
   "cell_type": "code",
   "execution_count": 30,
   "id": "5a0a2852-d7ef-424e-a11f-079b4e9a999f",
   "metadata": {},
   "outputs": [],
   "source": [
    "import json\n",
    "from collections import OrderedDict"
   ]
  },
  {
   "cell_type": "code",
   "execution_count": 32,
   "id": "1485631d-f655-401d-835b-9f0f51dc51de",
   "metadata": {},
   "outputs": [],
   "source": [
    "news = []\n",
    "\n",
    "with open('data/JTBC_P.json','a',encoding='UTF-8') as f:\n",
    "    for i in range(len(titles)):\n",
    "        new = OrderedDict()\n",
    "        new['제목'] = titles[i]\n",
    "        new['기사미리보기'] = contents[i]\n",
    "        new['카테고리'] = category[i]\n",
    "        new['기자'] = writers[i]\n",
    "        new['날짜'] = regdate[i]\n",
    "        news.append(new)\n",
    "    f.write(json.dumps(news,ensure_ascii=False))"
   ]
  },
  {
   "cell_type": "code",
   "execution_count": null,
   "id": "069e8c2e-99db-4a22-8d7c-0085e10ceaae",
   "metadata": {},
   "outputs": [],
   "source": []
  }
 ],
 "metadata": {
  "kernelspec": {
   "display_name": "Python 3 (ipykernel)",
   "language": "python",
   "name": "python3"
  },
  "language_info": {
   "codemirror_mode": {
    "name": "ipython",
    "version": 3
   },
   "file_extension": ".py",
   "mimetype": "text/x-python",
   "name": "python",
   "nbconvert_exporter": "python",
   "pygments_lexer": "ipython3",
   "version": "3.9.13"
  }
 },
 "nbformat": 4,
 "nbformat_minor": 5
}
