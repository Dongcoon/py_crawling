{
 "cells": [
  {
   "cell_type": "markdown",
   "id": "3714c0d7-19b7-4213-aeb0-dc8f5ec19559",
   "metadata": {
    "tags": []
   },
   "source": [
    "### 크롤링 실습 2\n",
    "   + 크롤링 대상 : www.kyobobook.co.kr\n",
    "   + 교보문고 쇼핑몰 사이트에서 '**베스트**' 페이지에서\n",
    "   + '**도서제목, 저자, 출판사, 출판일, 가격**'들을 수집하세요\n",
    "       * 파일에 저장 : kyobobest.csv\n"
   ]
  },
  {
   "cell_type": "code",
   "execution_count": 2,
   "id": "ee2db1f1-ceee-41dd-9ae0-3d2d9a65759a",
   "metadata": {},
   "outputs": [],
   "source": [
    "import requests\n",
    "from lxml import html"
   ]
  },
  {
   "cell_type": "code",
   "execution_count": 3,
   "id": "096f530f-d174-4812-90fe-b8aa08d4533b",
   "metadata": {},
   "outputs": [],
   "source": [
    "url = 'https://product.kyobobook.co.kr/bestseller/online?period=001'\n",
    "header = {'user-agent':'Mozilla/5.0 (Windows NT 10.0; Win64; x64) AppleWebKit/537.36 (KHTML, like Gecko) Chrome/106.0.0.0 Safari/537.36'}"
   ]
  },
  {
   "cell_type": "code",
   "execution_count": 4,
   "id": "a8f13d38-92b2-42c8-8a11-b84e4bb1d654",
   "metadata": {},
   "outputs": [
    {
     "ename": "AttributeError",
     "evalue": "'list' object has no attribute 'split'",
     "output_type": "error",
     "traceback": [
      "\u001b[1;31m---------------------------------------------------------------------------\u001b[0m",
      "\u001b[1;31mAttributeError\u001b[0m                            Traceback (most recent call last)",
      "Cell \u001b[1;32mIn [4], line 14\u001b[0m\n\u001b[0;32m     12\u001b[0m \u001b[38;5;28;01mfor\u001b[39;00m title \u001b[38;5;129;01min\u001b[39;00m docs:\n\u001b[0;32m     13\u001b[0m     titles\u001b[38;5;241m.\u001b[39mappend(title\u001b[38;5;241m.\u001b[39mtext_content())\n\u001b[1;32m---> 14\u001b[0m docs \u001b[38;5;241m=\u001b[39m \u001b[43mdoctree\u001b[49m\u001b[38;5;241;43m.\u001b[39;49m\u001b[43mcssselect\u001b[49m\u001b[43m(\u001b[49m\u001b[38;5;124;43m'\u001b[39;49m\u001b[38;5;124;43mspan.prod_author\u001b[39;49m\u001b[38;5;124;43m'\u001b[39;49m\u001b[43m)\u001b[49m\u001b[38;5;241;43m.\u001b[39;49m\u001b[43msplit\u001b[49m(\u001b[38;5;124m'\u001b[39m\u001b[38;5;124m·\u001b[39m\u001b[38;5;124m'\u001b[39m)\n\u001b[0;32m     15\u001b[0m \u001b[38;5;28;01mfor\u001b[39;00m writer \u001b[38;5;129;01min\u001b[39;00m docs[\u001b[38;5;241m0\u001b[39m]:\n\u001b[0;32m     16\u001b[0m     writers\u001b[38;5;241m.\u001b[39mappend(writer\u001b[38;5;241m.\u001b[39mtext_content())\n",
      "\u001b[1;31mAttributeError\u001b[0m: 'list' object has no attribute 'split'"
     ]
    }
   ],
   "source": [
    "books = []\n",
    "titles,writers,pubs,prices = [],[],[],[]\n",
    "\n",
    "for i in range(1,2+1):\n",
    "    # 질의문자열을 위해 params 변수 정의\n",
    "    param = {'page': i}\n",
    "    # http header와 질의문자열을 이용해서 requests 모듈 호출\n",
    "    res = requests.get(url, headers=header, params=param)\n",
    "    doctree = html.fromstring(res.text)\n",
    "\n",
    "    docs = doctree.cssselect('span.prod_name')\n",
    "    for title in docs:\n",
    "        titles.append(title.text_content())\n",
    "    docs = doctree.cssselect('span.prod_author').split('·')\n",
    "    for writer in docs[0]:\n",
    "        writers.append(writer.text_content())\n",
    "    docs = doctree.cssselect('span.prod_author').split('·')\n",
    "    for pub in docs[1]:\n",
    "        pubs.append(pub.text_content())\n",
    "    docs = doctree.cssselect('span.val') \n",
    "    for price in docs:\n",
    "        prices.append(price.text_content().replace(',',''))\n",
    "time.sleep(2)  # 2초동안 잠시 대기 \n",
    "print(books)"
   ]
  },
  {
   "cell_type": "code",
   "execution_count": null,
   "id": "6d7675dc-5b64-4f2d-9953-7c4cbf5e4695",
   "metadata": {},
   "outputs": [],
   "source": []
  }
 ],
 "metadata": {
  "kernelspec": {
   "display_name": "Python 3 (ipykernel)",
   "language": "python",
   "name": "python3"
  },
  "language_info": {
   "codemirror_mode": {
    "name": "ipython",
    "version": 3
   },
   "file_extension": ".py",
   "mimetype": "text/x-python",
   "name": "python",
   "nbconvert_exporter": "python",
   "pygments_lexer": "ipython3",
   "version": "3.9.13"
  }
 },
 "nbformat": 4,
 "nbformat_minor": 5
}
