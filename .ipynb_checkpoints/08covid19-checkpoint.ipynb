{
 "cells": [
  {
   "cell_type": "markdown",
   "id": "6a08678d-3963-4855-81b5-4deed48bd140",
   "metadata": {},
   "source": [
    "# 코로나19 시·도발생 현황\n",
    "+ 지역별 코로나 확진자 수 조회\n",
    "+ 지역을 입력하면 코로나 확진자 수 정보 출력\n",
    "+ 시도명GUBUN, 전일대비 증감수INC_DEC, 총확진자수DEF_CNT, 등록일시분초CREATE_DT"
   ]
  },
  {
   "cell_type": "code",
   "execution_count": null,
   "id": "3900f41d-95ea-4a90-b679-2c1b6c3e68fa",
   "metadata": {},
   "outputs": [],
   "source": [
    "import requests\n",
    "from bs4 import BeautifulSoup"
   ]
  },
  {
   "cell_type": "code",
   "execution_count": null,
   "id": "41ead58c-938d-44df-8c87-05f14983f6ef",
   "metadata": {},
   "outputs": [],
   "source": [
    "url = 'http://apis.data.go.kr/1352000/ODMS_COVID_04/callCovid04Api'\n",
    "params = {'serviceKey': 'GjgjTYLP10LmklhSDVDE6qQ8KZPc43DI%2BJ0iaotwuQpc5cFzNY19Uo269sO%2F5MQJ%2BGT6AmPGbn3prlagN3nf7A%3D%3D',\n",
    "          ,'pageNo':1,'numOfRows':500,'apiType':'xml','std_day':'2021-12-15','gubun': '서울'}"
   ]
  },
  {
   "cell_type": "code",
   "execution_count": null,
   "id": "0b269415-0356-4d07-a581-cc12aa2bbc58",
   "metadata": {},
   "outputs": [],
   "source": [
    "res = requests.get(url,params=params)\n",
    "html = BeautifulSoup(res.text,'lxml')"
   ]
  },
  {
   "cell_type": "code",
   "execution_count": null,
   "id": "397dcfbd-86f5-4f5f-98c3-558ac825ac05",
   "metadata": {},
   "outputs": [],
   "source": []
  }
 ],
 "metadata": {
  "kernelspec": {
   "display_name": "Python 3 (ipykernel)",
   "language": "python",
   "name": "python3"
  },
  "language_info": {
   "codemirror_mode": {
    "name": "ipython",
    "version": 3
   },
   "file_extension": ".py",
   "mimetype": "text/x-python",
   "name": "python",
   "nbconvert_exporter": "python",
   "pygments_lexer": "ipython3",
   "version": "3.9.13"
  }
 },
 "nbformat": 4,
 "nbformat_minor": 5
}
