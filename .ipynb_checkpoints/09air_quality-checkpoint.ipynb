{
 "cells": [
  {
   "cell_type": "markdown",
   "id": "59097ec4-17cd-4077-a412-a2ccf75fdd21",
   "metadata": {
    "tags": []
   },
   "source": [
    "## 미세먼지, 초미세먼지\n",
    "+ 죽음의 먼지, 잿빛 재앙, 은밀한 살인자 => 미세먼지\n",
    "+ 세계보건기구에 따르면 2014년, 전세계에서 약 700만 명이 미세먼지로 인해 조기 사망\n",
    "\n",
    "+ 1930년 벨기에의 뮤즈 벨리, 1948년 미국 펜실베이니아 주의 도노라,\n",
    "+ 1952년 런던 스모그 등 대규모 재난을 겪으며\n",
    "+ 대기오염이 건강에 막대한 피해를 끼칠 수 있다는 사실을 인지함함\n",
    "\n",
    "+ 먼지는 대기 중 떠다니거나 흩날려 내려오는 입자상의 물질을 의미\n",
    "+ 대기오염 물질에는 가스상 물질과 입자상 물질이 존재"
   ]
  },
  {
   "cell_type": "markdown",
   "id": "062ffe45-32a6-472e-b6b1-662625808039",
   "metadata": {},
   "source": [
    "+ 미세먼지, 초미세먼지는 입자상 물질을 크기별로 세분화한 것\n",
    "+ 1990년대에는 입자의 지름이 50마이크로미터 이하인 총먼지(TSP)\n",
    "+ 2000년대에는 지름이 10마이크로미터 이하인 PM10,\n",
    "+ 2010년대에는 지름이 2.5마이크로미터 이하인 PM2.5로 나눔\n",
    "+ => 우리나라에서는 통상적으로 PM10을 미세먼지로, PM2.5를 초미세먼지로 번역해 옴\n",
    "\n",
    "+ 2016년, 2017년, 환경부에서는 해외의 용어와 국내의 용어를 맞추기 위해\n",
    "+ PM10을 부유먼지로 PM2.5를 미세먼지로 용어를 정비함\n",
    "+ 초미세먼지는 PM1 또는 PM0.1을 가리키는 말"
   ]
  },
  {
   "cell_type": "markdown",
   "id": "cf649f7e-95fa-4f8e-8e5b-04d2a4afaeaa",
   "metadata": {
    "tags": []
   },
   "source": [
    "# 시도별 실시간 대기오염정보 조회\n",
    "+ 지역을 입력하면 측정소명stationName, 측정일시dataTime,\n",
    "+ 미세먼지(PM10)농도pm10Value, 초미세먼지(PM25)농도pm25Value 출력"
   ]
  },
  {
   "cell_type": "code",
   "execution_count": 43,
   "id": "255203f4-8744-4eba-bdab-4fc38a786d16",
   "metadata": {},
   "outputs": [],
   "source": [
    "import requests\n",
    "from bs4 import BeautifulSoup"
   ]
  },
  {
   "cell_type": "code",
   "execution_count": 69,
   "id": "9609d9a2-97e6-45e3-b9b9-2afb1a4ed4b8",
   "metadata": {},
   "outputs": [],
   "source": [
    "url = 'http://apis.data.go.kr/B552584/ArpltnInforInqireSvc/getCtprvnRltmMesureDnsty'\n",
    "returnType = 'xml'\n",
    "params = {'serviceKey':'GjgjTYLP10LmklhSDVDE6qQ8KZPc43DI%2BJ0iaotwuQpc5cFzNY19Uo269sO%2F5MQJ%2BGT6AmPGbn3prlagN3nf7A%3D%3D',\n",
    "         'returnType':returnType,'sidoName':'전국','pageNo':1, 'numOfRows':10000, 'ver':'1.0'}"
   ]
  },
  {
   "cell_type": "code",
   "execution_count": 51,
   "id": "aa42b9e3-145e-462a-a257-9955f2fc0d81",
   "metadata": {},
   "outputs": [],
   "source": [
    "res = requests.get(url,params=params)\n",
    "html = BeautifulSoup(res.text,'lxml')"
   ]
  },
  {
   "cell_type": "markdown",
   "id": "7d7de1d3-1052-4c97-90f9-3100bf98ee47",
   "metadata": {
    "tags": []
   },
   "source": [
    "### 초미세먼지, 미세먼지 정보 추출"
   ]
  },
  {
   "cell_type": "code",
   "execution_count": 77,
   "id": "a2d6e8a5-352a-4db8-881c-5b6e1284dc42",
   "metadata": {},
   "outputs": [
    {
     "name": "stdout",
     "output_type": "stream",
     "text": [
      "마포구 2022-10-27 13:00 37 😐 20 😐\n"
     ]
    }
   ],
   "source": [
    "for item in html.select('item'):\n",
    "    if item.stationname.text == '마포구':\n",
    "        pm10v = item.pm10value.text\n",
    "        pm25v = item.pm25value.text\n",
    "        print(item.stationname.text,item.datatime.text, pm10v,pm10(int(pm10v)),pm25v,pm25(int(pm25v)))"
   ]
  },
  {
   "cell_type": "code",
   "execution_count": 59,
   "id": "43c2f7cc-e373-4efb-9a3f-e049cf40b705",
   "metadata": {},
   "outputs": [],
   "source": [
    "city, pm10_r, pm25_r = [],[],[]"
   ]
  },
  {
   "cell_type": "code",
   "execution_count": 60,
   "id": "cf646a33-26f6-49c3-87b0-96ecd1784b43",
   "metadata": {},
   "outputs": [],
   "source": [
    "for item in html.select('item'):\n",
    "    city.append(item.stationname.text)\n",
    "    pm10_r.append(item.pm10value.text)\n",
    "    pm25_r.append(item.pm25value.text)"
   ]
  },
  {
   "cell_type": "markdown",
   "id": "129a9cf8-9afc-4e31-86a3-05f39d668e01",
   "metadata": {},
   "source": [
    "## 미세먼지, 초미세먼지 등급부여\n",
    " + 미세먼지/초미세먼지 등급에 따른 이모지 출력\n",
    " + 미세먼지 : ~30, ~80, ~150, 151~\n",
    " + 초미세먼지 : ~15, ~35, ~75, 76~\n",
    " + 😀 😐 😫 😱"
   ]
  },
  {
   "cell_type": "code",
   "execution_count": 66,
   "id": "80154e2c-00ed-426c-a592-1f7a3226e339",
   "metadata": {},
   "outputs": [],
   "source": [
    "def pm10(val):\n",
    "    grade = '😀'\n",
    "    if val <= 30:\n",
    "        grade = '😀'\n",
    "    elif 30 < val <= 80:\n",
    "        grade = '😐'\n",
    "    elif 80 < val <= 150:\n",
    "        grade = '😫'\n",
    "    else:\n",
    "        grade =  '😱'\n",
    "        \n",
    "    return grade"
   ]
  },
  {
   "cell_type": "code",
   "execution_count": 67,
   "id": "1c63ac97-8ff3-44a8-852d-0190262853ed",
   "metadata": {},
   "outputs": [],
   "source": [
    "def pm25(val):\n",
    "    grade = '😀'\n",
    "    if val <= 15:\n",
    "        grade =  '😀'\n",
    "    elif 15 < val <= 35:\n",
    "        grade = '😐'\n",
    "    elif 35 < val <= 75:\n",
    "        grade = '😫'\n",
    "    else:\n",
    "        grade = '😱'\n",
    "    return grade\n",
    "        "
   ]
  },
  {
   "cell_type": "markdown",
   "id": "d79c2ad3-3c50-4db2-b990-38e2417df9e8",
   "metadata": {},
   "source": [
    "# 대기오염정보를 JSON으로 불러오기"
   ]
  },
  {
   "cell_type": "code",
   "execution_count": 74,
   "id": "0e58b54c-487d-4305-8425-48bb757cddec",
   "metadata": {},
   "outputs": [],
   "source": [
    "import json"
   ]
  },
  {
   "cell_type": "code",
   "execution_count": 72,
   "id": "56b150a5-8b37-4fb7-a926-ba89e666c367",
   "metadata": {},
   "outputs": [],
   "source": [
    "returnType = 'json'\n",
    "params = {'serviceKey':'GjgjTYLP10LmklhSDVDE6qQ8KZPc43DI%2BJ0iaotwuQpc5cFzNY19Uo269sO%2F5MQJ%2BGT6AmPGbn3prlagN3nf7A%3D%3D',\n",
    "         'returnType':returnType,'sidoName':'전국','pageNo':1, 'numOfRows':10000, 'ver':'1.0'}\n",
    "\n",
    "res = requests.get(url,params=params)"
   ]
  },
  {
   "cell_type": "code",
   "execution_count": 73,
   "id": "b6a21ad2-007a-46d4-a15a-641eb4ccda96",
   "metadata": {},
   "outputs": [
    {
     "data": {
      "text/plain": [
       "'{\"response\":{\"body\":{\"totalCount\":634,\"items\":[{\"so2Grade\":\"1\",\"coFlag\":null,\"khaiValue\":\"74\",\"so2Value\":\"0.004\",\"coValue\":\"0.2\",\"pm25Flag\":null,\"pm10Flag\":null,\"o3Grade\":\"2\",\"pm10Value\":\"27\",\"khaiGrade\":\"2\",\"pm25Value\":\"5\",\"sidoName\":\"부산\",\"no2Flag\":null,\"no2Grade\":\"1\",\"o3Flag\":null,\"pm25Grade\":\"1\",\"so2Flag\":null,\"dataTime\":\"2022-10-27 15:00\",\"coGrade\":\"1\",\"no2Value\":\"0.006\",\"stationName\":\"좌동\",\"pm10Grade\":\"1\",\"o3Value\":\"0.059\"},{\"so2Grade\":\"1\",\"coFlag\":null,\"khaiValue\":\"68\",\"so2Value\":\"0.008\",\"c'"
      ]
     },
     "execution_count": 73,
     "metadata": {},
     "output_type": "execute_result"
    }
   ],
   "source": [
    "res.text[:500]"
   ]
  },
  {
   "cell_type": "code",
   "execution_count": 75,
   "id": "6b41e695-6138-4781-bd15-3d5a362e44af",
   "metadata": {},
   "outputs": [],
   "source": [
    "# 텍스트로 구성된 json 문자열을 객체로 변환\n",
    "json_data = json.loads(res.text)"
   ]
  },
  {
   "cell_type": "code",
   "execution_count": 81,
   "id": "1117ab66-ee4b-46d9-89fe-eed22f34fb19",
   "metadata": {},
   "outputs": [
    {
     "name": "stdout",
     "output_type": "stream",
     "text": [
      "마포구 2022-10-27 15:00 25 😀 14 😀\n"
     ]
    }
   ],
   "source": [
    "# json에서 객체의 속성 호출 : 객체명['속성명'], 객체명.속성명\n",
    "for item in json_data['response']['body']['items']:\n",
    "    if item['stationName'] == '마포구':\n",
    "        pm10v = item['pm10Value']\n",
    "        pm25v = item['pm25Value']\n",
    "        print(item['stationName'], item['dataTime'], pm10v,pm10(int(pm10v)),pm25v,pm25(int(pm25v)))"
   ]
  },
  {
   "cell_type": "code",
   "execution_count": null,
   "id": "f79e0f5e-6743-4792-b523-22b1941cf2d9",
   "metadata": {},
   "outputs": [],
   "source": []
  }
 ],
 "metadata": {
  "kernelspec": {
   "display_name": "Python 3 (ipykernel)",
   "language": "python",
   "name": "python3"
  },
  "language_info": {
   "codemirror_mode": {
    "name": "ipython",
    "version": 3
   },
   "file_extension": ".py",
   "mimetype": "text/x-python",
   "name": "python",
   "nbconvert_exporter": "python",
   "pygments_lexer": "ipython3",
   "version": "3.9.13"
  }
 },
 "nbformat": 4,
 "nbformat_minor": 5
}
