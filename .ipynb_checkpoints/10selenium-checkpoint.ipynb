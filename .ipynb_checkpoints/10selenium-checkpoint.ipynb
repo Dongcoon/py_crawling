{
 "cells": [
  {
   "cell_type": "markdown",
   "id": "ad1ccc5a-4f49-4dc9-8156-dd6b38b3d7ea",
   "metadata": {},
   "source": [
    "## selenium으로 스크레핑 하기\n",
    " + 웹브라우저를 이용한 작업들을 자동화할 수 있도록 특수제작된 브라우저\n",
    " + 또한, ajax를 이용한 동적 웹페이지를 크롤링하는데에도 사용\n",
    " + requests, bs4로 스크래핑할 수 없는 동적 데이터를 포함하는 웹 페이지를 원격 조작이 가능한 웹브라우저를 이용해서 처리"
   ]
  },
  {
   "cell_type": "markdown",
   "id": "1671d700-900a-403a-87ca-01b124c7d359",
   "metadata": {},
   "source": [
    "## seleniumhq.org\n",
    "+ chromedriver.chromium.org\n",
    "+ ChromeDriver 98.0.4758.102 (2022-02-17)\n",
    "+ chromedriver_win32.zip => chromedriver.exe\n",
    "+ C:\\Program Files\\Google\\Chrome\\Application\n",
    "\n",
    "+ pip install selenium => selenium-4.1.0 (2022-02-17)\n"
   ]
  },
  {
   "cell_type": "code",
   "execution_count": null,
   "id": "8f713b17-770e-4232-9b9d-53ce3039db78",
   "metadata": {},
   "outputs": [],
   "source": [
    "pip install selenium"
   ]
  },
  {
   "cell_type": "markdown",
   "id": "b7412dd4-2368-40f0-b4e5-e8f10b8e2a6d",
   "metadata": {},
   "source": [
    "## 한빛미디어에서 전체도서목록 크롤링하기\n",
    " + 도서명, 저자, 가격, 발행일 추출"
   ]
  },
  {
   "cell_type": "code",
   "execution_count": 82,
   "id": "9775e5ce-b587-4a39-8f3d-0724d352657e",
   "metadata": {},
   "outputs": [],
   "source": [
    "from selenium import webdriver\n",
    "from bs4 import BeautifulSoup"
   ]
  },
  {
   "cell_type": "code",
   "execution_count": 83,
   "id": "54ba5074-ed7e-4d18-85ee-2725545a3fe5",
   "metadata": {},
   "outputs": [],
   "source": [
    "url = 'https://www.hanbit.co.kr/store/books/full_book_list.html'\n",
    "headers = {'https://product.kyobobook.co.kr/api/gw/pub/pdt/best-seller/online?page=1&per=20&period=001&dsplDvsnCode=000&dsplTrgtDvsnCode=001'}"
   ]
  },
  {
   "cell_type": "code",
   "execution_count": 84,
   "id": "f261b427-6ca5-437f-9577-bbceb66a26ce",
   "metadata": {},
   "outputs": [
    {
     "name": "stderr",
     "output_type": "stream",
     "text": [
      "C:\\Users\\Public\\Documents\\ESTsoft\\CreatorTemp\\ipykernel_23628\\2576717679.py:2: DeprecationWarning: executable_path has been deprecated, please pass in a Service object\n",
      "  chrome = webdriver.Chrome(r'C:\\Program Files (x86)\\Google\\Chrome\\Application\\chromedriver.exe')\n"
     ]
    }
   ],
   "source": [
    "# selenium 초기화\n",
    "chrome = webdriver.Chrome(r'C:\\Program Files (x86)\\Google\\Chrome\\Application\\chromedriver.exe')"
   ]
  },
  {
   "cell_type": "code",
   "execution_count": 85,
   "id": "0b0fc211-10d8-4416-bc59-bd52de99202c",
   "metadata": {},
   "outputs": [],
   "source": [
    "# 지정한 url로 접속\n",
    "chrome.get(url)"
   ]
  },
  {
   "cell_type": "code",
   "execution_count": 86,
   "id": "1d8665b4-7597-4d40-bd93-746799598c3a",
   "metadata": {},
   "outputs": [],
   "source": [
    "# 응답받은 웹소스를 bs4에 저장\n",
    "html = BeautifulSoup(chrome.page_source,'lxml')"
   ]
  },
  {
   "cell_type": "code",
   "execution_count": 87,
   "id": "0cec545b-8221-4139-af6f-faa5c35728ab",
   "metadata": {},
   "outputs": [],
   "source": [
    "# selenium 종료\n",
    "chrome.close()"
   ]
  },
  {
   "cell_type": "markdown",
   "id": "f8341e7b-4ba1-4288-901c-5a18be4be1d8",
   "metadata": {},
   "source": [
    "### 도서명, 저자, 출판일, 가격 추출"
   ]
  },
  {
   "cell_type": "code",
   "execution_count": 89,
   "id": "956c9cbc-b2c6-4a69-af9d-a8e61755dfcb",
   "metadata": {},
   "outputs": [],
   "source": [
    "titles,writers,regdate,prices = [],[],[],[]\n",
    "books_len = int(len(html.select('td'))/5)\n",
    "\n",
    "\n",
    "for i in range(0,books_len+2,5):\n",
    "    titles.append(html.select('td')[i+1].text.replace(',',''))\n",
    "    writers.append(html.select('td')[i+2].text)\n",
    "    regdate.append(html.select('td')[i+3].text)\n",
    "    prices.append(html.select('td')[i+4].text.replace(',','').replace('원',''))\n"
   ]
  },
  {
   "cell_type": "markdown",
   "id": "ba8f294c-66e2-48ba-adf6-c62d013af45d",
   "metadata": {},
   "source": [
    "## CSV"
   ]
  },
  {
   "cell_type": "code",
   "execution_count": 90,
   "id": "eaf3836a-40e8-4225-acd9-25782a8c2af9",
   "metadata": {},
   "outputs": [],
   "source": [
    "header = '도서명,저자,출판일,가격\\n'\n",
    "\n",
    "with open('data/allbooks.csv','a',encoding='utf-8') as f:\n",
    "    f.write(header)\n",
    "    for i in range(len(titles)):\n",
    "        title, writer = titles[i], writers[i]\n",
    "        rdg, price =  regdate[i], prices[i]\n",
    "        f.write(f' \"{title}\",\"{writer}\",\"{regdate}\",\"{price}\"\\n ')"
   ]
  },
  {
   "cell_type": "markdown",
   "id": "845ded8d-4a20-4ba5-a022-6e9d9d7b27a5",
   "metadata": {},
   "source": [
    "## JSON"
   ]
  },
  {
   "cell_type": "code",
   "execution_count": 91,
   "id": "ef11227b-d77c-4f18-b3bf-63ac3f70bf28",
   "metadata": {},
   "outputs": [],
   "source": [
    "import json\n",
    "from collections import OrderedDict"
   ]
  },
  {
   "cell_type": "code",
   "execution_count": 93,
   "id": "f7f8cc3b-e176-41dc-abc9-10ae470be555",
   "metadata": {},
   "outputs": [],
   "source": [
    "books = []\n",
    "\n",
    "with open('data/allbook.json','a',encoding='UTF-8') as f:\n",
    "    for i in range(len(titles)):\n",
    "        book = OrderedDict()\n",
    "        book['도서명'] = titles[i]\n",
    "        book['저자'] = writers[i]\n",
    "        book['출판일'] = regdate[i]\n",
    "        book['가격'] = prices[i]\n",
    "        books.append(book)\n",
    "    f.write(json.dumps(books,ensure_ascii=False))"
   ]
  },
  {
   "cell_type": "code",
   "execution_count": null,
   "id": "2ab0fb68-0cd5-407b-a7e6-219ab6fa3c4f",
   "metadata": {},
   "outputs": [],
   "source": []
  }
 ],
 "metadata": {
  "kernelspec": {
   "display_name": "Python 3 (ipykernel)",
   "language": "python",
   "name": "python3"
  },
  "language_info": {
   "codemirror_mode": {
    "name": "ipython",
    "version": 3
   },
   "file_extension": ".py",
   "mimetype": "text/x-python",
   "name": "python",
   "nbconvert_exporter": "python",
   "pygments_lexer": "ipython3",
   "version": "3.9.13"
  }
 },
 "nbformat": 4,
 "nbformat_minor": 5
}
