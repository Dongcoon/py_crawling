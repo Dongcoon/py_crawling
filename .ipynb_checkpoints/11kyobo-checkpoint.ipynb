{
 "cells": [
  {
   "cell_type": "markdown",
   "id": "96167754-0e84-455d-aec0-ae255ca74c6c",
   "metadata": {
    "tags": []
   },
   "source": [
    "### 크롤링 실습 \n",
    "   + 크롤링 대상 : www.kyobobook.co.kr\n",
    "   + 교보문고 쇼핑몰 사이트에서 '**베스트**' 페이지에서\n",
    "   + '**도서제목, 저자, 출판사, 출판일, 가격**'들을 수집하세요\n",
    "       * 파일에 저장 : kyobobest.csv\n"
   ]
  },
  {
   "cell_type": "markdown",
   "id": "e5e7212b-86c9-49a5-8aa5-4b81a02e540f",
   "metadata": {},
   "source": [
    "pip install webdriver_manager"
   ]
  },
  {
   "cell_type": "code",
   "execution_count": 1,
   "id": "36a26018-c14c-4ae4-9e54-74cb3b2522f5",
   "metadata": {},
   "outputs": [],
   "source": [
    "from bs4 import BeautifulSoup\n",
    "\n",
    "from selenium.webdriver.chrome.service import Service\n",
    "from webdriver_manager.chrome import ChromeDriverManager\n",
    "from selenium import webdriver"
   ]
  },
  {
   "cell_type": "code",
   "execution_count": 17,
   "id": "6b915cab-c93f-4875-8c2a-ed217c39ca72",
   "metadata": {},
   "outputs": [],
   "source": [
    "url = 'https://product.kyobobook.co.kr/bestseller/online?period=001'"
   ]
  },
  {
   "cell_type": "markdown",
   "id": "35a605a9-45a3-4539-8131-72eb6c6245f8",
   "metadata": {},
   "source": [
    "# selenium 초기화"
   ]
  },
  {
   "cell_type": "code",
   "execution_count": 18,
   "id": "892d8a38-d98b-4a51-acfc-8fc162c68bb5",
   "metadata": {},
   "outputs": [],
   "source": [
    "options = webdriver.ChromeOptions()\n",
    "services = Service(ChromeDriverManager().install())  # 드라이버 자동설치\n",
    "chrome = webdriver.Chrome(service=services, options=options)"
   ]
  },
  {
   "cell_type": "code",
   "execution_count": 19,
   "id": "309be472-c985-4e36-9753-60e657805543",
   "metadata": {},
   "outputs": [],
   "source": [
    "chrome.get(url)\n",
    "html = BeautifulSoup(chrome.page_source,'lxml')\n",
    "chrome.close()"
   ]
  },
  {
   "cell_type": "markdown",
   "id": "7a388af2-ba94-4a62-91e3-5526bc60cf09",
   "metadata": {},
   "source": [
    "### 도서정보 추출하기"
   ]
  },
  {
   "cell_type": "code",
   "execution_count": 54,
   "id": "f23ac4f9-4474-400d-8ecb-439bcc36a1b1",
   "metadata": {},
   "outputs": [],
   "source": [
    "titles,authors,publishers,pubdates,prices = [],[],[],[],[]"
   ]
  },
  {
   "cell_type": "code",
   "execution_count": 55,
   "id": "3765a4ea-9db8-464a-b7ef-aeec161a99c1",
   "metadata": {},
   "outputs": [],
   "source": [
    "for title in html.select('span.prod_name'):\n",
    "    title = title.replace(',','|')\n",
    "    titles.append(title.text)"
   ]
  },
  {
   "cell_type": "code",
   "execution_count": 56,
   "id": "822a08e8-f2c3-48ef-8e9f-0f36e320bb02",
   "metadata": {},
   "outputs": [],
   "source": [
    "for bkinfo in html.select('span.prod_author'):\n",
    "    author = bkinfo.text.split('·')[0]\n",
    "    author = author.strip()\n",
    "    authors.append(author)"
   ]
  },
  {
   "cell_type": "code",
   "execution_count": 57,
   "id": "bb70e560-00a1-4147-9ccf-5647646accee",
   "metadata": {},
   "outputs": [],
   "source": [
    "for bkinfo in html.select('span.prod_author'):\n",
    "    publisher = bkinfo.text.split('·')[1]\n",
    "    publisher = publisher.strip()\n",
    "    publishers.append(publisher)"
   ]
  },
  {
   "cell_type": "code",
   "execution_count": 58,
   "id": "db3728d7-d617-4768-9c8a-378f11900a3c",
   "metadata": {},
   "outputs": [],
   "source": [
    "for bkinfo in html.select('span.prod_author'):\n",
    "    pubdate = bkinfo.text.split('·')[2]\n",
    "    pubdate = pubdate.replace('출시','')\n",
    "    pubdate = pubdate.replace('.','-')\n",
    "    pubdate = pubdate.strip()\n",
    "    pubdates.append(pubdate)"
   ]
  },
  {
   "cell_type": "code",
   "execution_count": 59,
   "id": "bf7a6a33-808a-454a-beea-62f426e3cfad",
   "metadata": {},
   "outputs": [],
   "source": [
    "for price in html.select('span.price'):\n",
    "    price = price.text.replace('원','')\n",
    "    price = price.replace(',','')\n",
    "    prices.append(price)"
   ]
  },
  {
   "cell_type": "code",
   "execution_count": 61,
   "id": "9a8a48b4-c653-4751-8908-b7a045b0661b",
   "metadata": {},
   "outputs": [],
   "source": [
    "header = '도서명,저자,출판사,출판일,가격\\n'\n",
    "\n",
    "with open('data/kyobo_books.csv','a',encoding='utf-8') as f:\n",
    "    f.write(header)\n",
    "    for i in range(len(titles)):\n",
    "        title, writer = titles[i], authors[i]\n",
    "        pbs, pbd, price =  publishers[i],pubdates[i], prices[i]\n",
    "        f.write(f' \"{title}\",\"{writer}\",\"{pbs}\",\"{pbd}\",\"{price}\"\\n ')"
   ]
  },
  {
   "cell_type": "code",
   "execution_count": 60,
   "id": "506df652-9432-448a-a0b1-de5a597a46cd",
   "metadata": {},
   "outputs": [
    {
     "data": {
      "text/plain": [
       "['17100',\n",
       " '14220',\n",
       " '13500',\n",
       " '8820',\n",
       " '12600',\n",
       " '14400',\n",
       " '11700',\n",
       " '14400',\n",
       " '16920',\n",
       " '16020',\n",
       " '4950',\n",
       " '15120',\n",
       " '19800',\n",
       " '12600',\n",
       " '12600',\n",
       " '18000',\n",
       " '19800',\n",
       " '15750',\n",
       " '16920',\n",
       " '15120']"
      ]
     },
     "execution_count": 60,
     "metadata": {},
     "output_type": "execute_result"
    }
   ],
   "source": [
    "prices"
   ]
  },
  {
   "cell_type": "code",
   "execution_count": null,
   "id": "39d85841-f682-4831-a7bc-9ca8e60b31fe",
   "metadata": {},
   "outputs": [],
   "source": []
  }
 ],
 "metadata": {
  "kernelspec": {
   "display_name": "Python 3 (ipykernel)",
   "language": "python",
   "name": "python3"
  },
  "language_info": {
   "codemirror_mode": {
    "name": "ipython",
    "version": 3
   },
   "file_extension": ".py",
   "mimetype": "text/x-python",
   "name": "python",
   "nbconvert_exporter": "python",
   "pygments_lexer": "ipython3",
   "version": "3.9.13"
  }
 },
 "nbformat": 4,
 "nbformat_minor": 5
}
