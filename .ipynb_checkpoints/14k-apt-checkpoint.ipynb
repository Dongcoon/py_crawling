{
 "cells": [
  {
   "cell_type": "markdown",
   "id": "8228641d-f2ed-4577-9688-1164ca7c62ea",
   "metadata": {},
   "source": [
    "## 아파트 단지 정보에서 주차장 정보 추출\n",
    " + 관련 사이트 : k-apt.go.kr\n",
    " + 메인페이지 팝업창 닫기 => '단지정보' 클릭\n",
    " + => 2022.06, 서울, 강남구, 삼성동, 아이파크삼성동 클릭\n"
   ]
  },
  {
   "cell_type": "code",
   "execution_count": 3,
   "id": "ba8632fc-d2af-43a2-b708-486758338840",
   "metadata": {},
   "outputs": [],
   "source": [
    "import time\n",
    "\n",
    "from selenium.webdriver.chrome.service import Service\n",
    "from webdriver_manager.chrome import ChromeDriverManager\n",
    "from selenium import webdriver\n",
    "from selenium.webdriver.support.select import Select\n",
    "from selenium.webdriver.common.by import By"
   ]
  },
  {
   "cell_type": "code",
   "execution_count": 38,
   "id": "7a71d8ee-367d-4fa7-a9e5-ad86c8478122",
   "metadata": {},
   "outputs": [],
   "source": [
    "options = webdriver.ChromeOptions()\n",
    "services = Service(ChromeDriverManager().install())  # 드라이버 자동설치\n",
    "chrome = webdriver.Chrome(service=services, options=options)"
   ]
  },
  {
   "cell_type": "code",
   "execution_count": null,
   "id": "d0d0d937-b061-48ad-a6ac-22c56754d9a0",
   "metadata": {},
   "outputs": [],
   "source": [
    "userid = '1370335512'\n",
    "passwd = '1q2w3e!@#'\n",
    "deptst = '서울'\n",
    "arrvst = '목포'\n",
    "dpyear = '2022'\n",
    "dpmonth = '11'\n",
    "dpday = '11'\n",
    "dphour = '10 (오전10)'"
   ]
  },
  {
   "cell_type": "code",
   "execution_count": 39,
   "id": "cf32caa3-b4ac-4667-a105-654e4dec1271",
   "metadata": {},
   "outputs": [],
   "source": [
    "url = 'http://www.k-apt.go.kr/'\n",
    "\n",
    "chrome.get(url)\n",
    "\n",
    "chrome.maximize_window() # 창 최대로 키우기\n",
    "time.sleep(3)"
   ]
  },
  {
   "cell_type": "code",
   "execution_count": 40,
   "id": "808ccc37-3819-4e97-8681-2bcde8eebe12",
   "metadata": {},
   "outputs": [],
   "source": [
    "# 팝업창 닫기\n",
    "chrome.find_element(By.CSS_SELECTOR,'.fas').click()"
   ]
  },
  {
   "cell_type": "code",
   "execution_count": 55,
   "id": "f4779907-d402-4610-a174-b89a6d806576",
   "metadata": {},
   "outputs": [
    {
     "ename": "NoSuchElementException",
     "evalue": "Message: no such element: Unable to locate element: {\"method\":\"css selector\",\"selector\":\"ul.wp220:nth-child(1) li:nth-child(1) a\"}\n  (Session info: chrome=107.0.5304.63)\nStacktrace:\nBacktrace:\n\tOrdinal0 [0x0071ACD3+2075859]\n\tOrdinal0 [0x006AEE61+1633889]\n\tOrdinal0 [0x005AB7BD+571325]\n\tOrdinal0 [0x005DAC2F+764975]\n\tOrdinal0 [0x005DAE1B+765467]\n\tOrdinal0 [0x0060D0F2+970994]\n\tOrdinal0 [0x005F7364+881508]\n\tOrdinal0 [0x0060B56A+963946]\n\tOrdinal0 [0x005F7136+880950]\n\tOrdinal0 [0x005CFEFD+720637]\n\tOrdinal0 [0x005D0F3F+724799]\n\tGetHandleVerifier [0x009CEED2+2769538]\n\tGetHandleVerifier [0x009C0D95+2711877]\n\tGetHandleVerifier [0x007AA03A+521194]\n\tGetHandleVerifier [0x007A8DA0+516432]\n\tOrdinal0 [0x006B682C+1665068]\n\tOrdinal0 [0x006BB128+1683752]\n\tOrdinal0 [0x006BB215+1683989]\n\tOrdinal0 [0x006C6484+1729668]\n\tBaseThreadInitThunk [0x75F66739+25]\n\tRtlGetFullPathName_UEx [0x77E78FD2+1218]\n\tRtlGetFullPathName_UEx [0x77E78F9D+1165]\n",
     "output_type": "error",
     "traceback": [
      "\u001b[1;31m---------------------------------------------------------------------------\u001b[0m",
      "\u001b[1;31mNoSuchElementException\u001b[0m                    Traceback (most recent call last)",
      "Cell \u001b[1;32mIn [55], line 2\u001b[0m\n\u001b[0;32m      1\u001b[0m \u001b[38;5;66;03m# 우리단지 정보 클릭\u001b[39;00m\n\u001b[1;32m----> 2\u001b[0m \u001b[43mchrome\u001b[49m\u001b[38;5;241;43m.\u001b[39;49m\u001b[43mfind_element\u001b[49m\u001b[43m(\u001b[49m\u001b[43mBy\u001b[49m\u001b[38;5;241;43m.\u001b[39;49m\u001b[43mCSS_SELECTOR\u001b[49m\u001b[43m,\u001b[49m\u001b[38;5;124;43m'\u001b[39;49m\u001b[38;5;124;43mul.wp220:nth-child(1) li:nth-child(1) a\u001b[39;49m\u001b[38;5;124;43m'\u001b[39;49m\u001b[43m)\u001b[49m\u001b[38;5;241m.\u001b[39mclick()\n",
      "File \u001b[1;32m~\\lib\\site-packages\\selenium\\webdriver\\remote\\webdriver.py:856\u001b[0m, in \u001b[0;36mWebDriver.find_element\u001b[1;34m(self, by, value)\u001b[0m\n\u001b[0;32m    853\u001b[0m     by \u001b[38;5;241m=\u001b[39m By\u001b[38;5;241m.\u001b[39mCSS_SELECTOR\n\u001b[0;32m    854\u001b[0m     value \u001b[38;5;241m=\u001b[39m \u001b[38;5;124m'\u001b[39m\u001b[38;5;124m[name=\u001b[39m\u001b[38;5;124m\"\u001b[39m\u001b[38;5;132;01m%s\u001b[39;00m\u001b[38;5;124m\"\u001b[39m\u001b[38;5;124m]\u001b[39m\u001b[38;5;124m'\u001b[39m \u001b[38;5;241m%\u001b[39m value\n\u001b[1;32m--> 856\u001b[0m \u001b[38;5;28;01mreturn\u001b[39;00m \u001b[38;5;28;43mself\u001b[39;49m\u001b[38;5;241;43m.\u001b[39;49m\u001b[43mexecute\u001b[49m\u001b[43m(\u001b[49m\u001b[43mCommand\u001b[49m\u001b[38;5;241;43m.\u001b[39;49m\u001b[43mFIND_ELEMENT\u001b[49m\u001b[43m,\u001b[49m\u001b[43m \u001b[49m\u001b[43m{\u001b[49m\n\u001b[0;32m    857\u001b[0m \u001b[43m    \u001b[49m\u001b[38;5;124;43m'\u001b[39;49m\u001b[38;5;124;43musing\u001b[39;49m\u001b[38;5;124;43m'\u001b[39;49m\u001b[43m:\u001b[49m\u001b[43m \u001b[49m\u001b[43mby\u001b[49m\u001b[43m,\u001b[49m\n\u001b[0;32m    858\u001b[0m \u001b[43m    \u001b[49m\u001b[38;5;124;43m'\u001b[39;49m\u001b[38;5;124;43mvalue\u001b[39;49m\u001b[38;5;124;43m'\u001b[39;49m\u001b[43m:\u001b[49m\u001b[43m \u001b[49m\u001b[43mvalue\u001b[49m\u001b[43m}\u001b[49m\u001b[43m)\u001b[49m[\u001b[38;5;124m'\u001b[39m\u001b[38;5;124mvalue\u001b[39m\u001b[38;5;124m'\u001b[39m]\n",
      "File \u001b[1;32m~\\lib\\site-packages\\selenium\\webdriver\\remote\\webdriver.py:429\u001b[0m, in \u001b[0;36mWebDriver.execute\u001b[1;34m(self, driver_command, params)\u001b[0m\n\u001b[0;32m    427\u001b[0m response \u001b[38;5;241m=\u001b[39m \u001b[38;5;28mself\u001b[39m\u001b[38;5;241m.\u001b[39mcommand_executor\u001b[38;5;241m.\u001b[39mexecute(driver_command, params)\n\u001b[0;32m    428\u001b[0m \u001b[38;5;28;01mif\u001b[39;00m response:\n\u001b[1;32m--> 429\u001b[0m     \u001b[38;5;28;43mself\u001b[39;49m\u001b[38;5;241;43m.\u001b[39;49m\u001b[43merror_handler\u001b[49m\u001b[38;5;241;43m.\u001b[39;49m\u001b[43mcheck_response\u001b[49m\u001b[43m(\u001b[49m\u001b[43mresponse\u001b[49m\u001b[43m)\u001b[49m\n\u001b[0;32m    430\u001b[0m     response[\u001b[38;5;124m'\u001b[39m\u001b[38;5;124mvalue\u001b[39m\u001b[38;5;124m'\u001b[39m] \u001b[38;5;241m=\u001b[39m \u001b[38;5;28mself\u001b[39m\u001b[38;5;241m.\u001b[39m_unwrap_value(\n\u001b[0;32m    431\u001b[0m         response\u001b[38;5;241m.\u001b[39mget(\u001b[38;5;124m'\u001b[39m\u001b[38;5;124mvalue\u001b[39m\u001b[38;5;124m'\u001b[39m, \u001b[38;5;28;01mNone\u001b[39;00m))\n\u001b[0;32m    432\u001b[0m     \u001b[38;5;28;01mreturn\u001b[39;00m response\n",
      "File \u001b[1;32m~\\lib\\site-packages\\selenium\\webdriver\\remote\\errorhandler.py:243\u001b[0m, in \u001b[0;36mErrorHandler.check_response\u001b[1;34m(self, response)\u001b[0m\n\u001b[0;32m    241\u001b[0m         alert_text \u001b[38;5;241m=\u001b[39m value[\u001b[38;5;124m'\u001b[39m\u001b[38;5;124malert\u001b[39m\u001b[38;5;124m'\u001b[39m]\u001b[38;5;241m.\u001b[39mget(\u001b[38;5;124m'\u001b[39m\u001b[38;5;124mtext\u001b[39m\u001b[38;5;124m'\u001b[39m)\n\u001b[0;32m    242\u001b[0m     \u001b[38;5;28;01mraise\u001b[39;00m exception_class(message, screen, stacktrace, alert_text)  \u001b[38;5;66;03m# type: ignore[call-arg]  # mypy is not smart enough here\u001b[39;00m\n\u001b[1;32m--> 243\u001b[0m \u001b[38;5;28;01mraise\u001b[39;00m exception_class(message, screen, stacktrace)\n",
      "\u001b[1;31mNoSuchElementException\u001b[0m: Message: no such element: Unable to locate element: {\"method\":\"css selector\",\"selector\":\"ul.wp220:nth-child(1) li:nth-child(1) a\"}\n  (Session info: chrome=107.0.5304.63)\nStacktrace:\nBacktrace:\n\tOrdinal0 [0x0071ACD3+2075859]\n\tOrdinal0 [0x006AEE61+1633889]\n\tOrdinal0 [0x005AB7BD+571325]\n\tOrdinal0 [0x005DAC2F+764975]\n\tOrdinal0 [0x005DAE1B+765467]\n\tOrdinal0 [0x0060D0F2+970994]\n\tOrdinal0 [0x005F7364+881508]\n\tOrdinal0 [0x0060B56A+963946]\n\tOrdinal0 [0x005F7136+880950]\n\tOrdinal0 [0x005CFEFD+720637]\n\tOrdinal0 [0x005D0F3F+724799]\n\tGetHandleVerifier [0x009CEED2+2769538]\n\tGetHandleVerifier [0x009C0D95+2711877]\n\tGetHandleVerifier [0x007AA03A+521194]\n\tGetHandleVerifier [0x007A8DA0+516432]\n\tOrdinal0 [0x006B682C+1665068]\n\tOrdinal0 [0x006BB128+1683752]\n\tOrdinal0 [0x006BB215+1683989]\n\tOrdinal0 [0x006C6484+1729668]\n\tBaseThreadInitThunk [0x75F66739+25]\n\tRtlGetFullPathName_UEx [0x77E78FD2+1218]\n\tRtlGetFullPathName_UEx [0x77E78F9D+1165]\n"
     ]
    }
   ],
   "source": [
    "# 우리단지 정보 클릭\n",
    "chrome.find_element(By.CSS_SELECTOR,'ul.wp220:nth-child(1) li:nth-child(1) a').click()"
   ]
  },
  {
   "cell_type": "code",
   "execution_count": null,
   "id": "8e8121cb-eebd-423d-913b-8dab77be47cf",
   "metadata": {},
   "outputs": [],
   "source": [
    "div div.1400 ul.wp220 li:nth-child(1) a"
   ]
  }
 ],
 "metadata": {
  "kernelspec": {
   "display_name": "Python 3 (ipykernel)",
   "language": "python",
   "name": "python3"
  },
  "language_info": {
   "codemirror_mode": {
    "name": "ipython",
    "version": 3
   },
   "file_extension": ".py",
   "mimetype": "text/x-python",
   "name": "python",
   "nbconvert_exporter": "python",
   "pygments_lexer": "ipython3",
   "version": "3.9.13"
  }
 },
 "nbformat": 4,
 "nbformat_minor": 5
}
