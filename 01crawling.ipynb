{
 "cells": [
  {
   "cell_type": "markdown",
   "id": "2b80485d-01f6-4be4-be66-239efc627665",
   "metadata": {
    "tags": []
   },
   "source": [
    "# 크롤링 개요\n",
    "   + 웹에서 데이터를 수집하는 작업\n",
    "   + 크롤러 또는 스파이더라는 프로그램을 이용해서\n",
    "     웹 사이트등에서 데이터를 추출함\n",
    "   + crawling 또는 Scraping은 웹페이지의 내용에서\n",
    "     필요한 데이터를 추출하는 행위를 의미함\n",
    "   + 단, 데이터 추출을 위해 필요한 모든 일련의 과정 역시 크롤링에 포함하기도 함\n",
    "   + 크롤링을 제대로 하기 위해서는 웹이 작동하는 방식과\n",
    "     웹 표준기술을 잘 파악하고 있어야 함      "
   ]
  },
  {
   "cell_type": "markdown",
   "id": "8f4712dd-d781-4105-a947-f678b190b737",
   "metadata": {
    "tags": []
   },
   "source": [
    "### 설치할 패키지\n",
    " + pip install requests\n",
    " + pip install lxml\n",
    " + pip install cssselect"
   ]
  },
  {
   "cell_type": "code",
   "execution_count": 1,
   "id": "11504dfb-3824-4adb-b6ec-56b45d11b9e7",
   "metadata": {},
   "outputs": [
    {
     "name": "stdout",
     "output_type": "stream",
     "text": [
      "Collecting requests\n",
      "  Using cached requests-2.28.1-py3-none-any.whl (62 kB)\n",
      "Collecting charset-normalizer<3,>=2\n",
      "  Using cached charset_normalizer-2.1.1-py3-none-any.whl (39 kB)\n",
      "Collecting certifi>=2017.4.17\n",
      "  Using cached certifi-2022.9.24-py3-none-any.whl (161 kB)\n",
      "Collecting idna<4,>=2.5\n",
      "  Using cached idna-3.4-py3-none-any.whl (61 kB)\n",
      "Collecting urllib3<1.27,>=1.21.1\n",
      "  Using cached urllib3-1.26.12-py2.py3-none-any.whl (140 kB)\n",
      "Installing collected packages: urllib3, idna, charset-normalizer, certifi, requests\n",
      "Successfully installed certifi-2022.9.24 charset-normalizer-2.1.1 idna-3.4 requests-2.28.1 urllib3-1.26.12\n"
     ]
    },
    {
     "name": "stderr",
     "output_type": "stream",
     "text": [
      "WARNING: You are using pip version 22.0.4; however, version 22.3 is available.\n",
      "You should consider upgrading via the 'C:\\Users\\LG PC\\Desktop\\Pro\\develop_tool\\python\\python.exe -m pip install --upgrade pip' command.\n"
     ]
    }
   ],
   "source": [
    "!pip install requests"
   ]
  },
  {
   "cell_type": "code",
   "execution_count": 2,
   "id": "c00fe0b8-4bb1-4055-8968-b2dce54e52e9",
   "metadata": {},
   "outputs": [
    {
     "name": "stdout",
     "output_type": "stream",
     "text": [
      "Collecting lxml"
     ]
    },
    {
     "name": "stderr",
     "output_type": "stream",
     "text": [
      "WARNING: You are using pip version 22.0.4; however, version 22.3 is available.\n",
      "You should consider upgrading via the 'C:\\Users\\LG PC\\Desktop\\Pro\\develop_tool\\python\\python.exe -m pip install --upgrade pip' command.\n"
     ]
    },
    {
     "name": "stdout",
     "output_type": "stream",
     "text": [
      "\n",
      "  Using cached lxml-4.9.1-cp39-cp39-win_amd64.whl (3.6 MB)\n",
      "Installing collected packages: lxml\n",
      "Successfully installed lxml-4.9.1\n"
     ]
    }
   ],
   "source": [
    "!pip install lxml"
   ]
  },
  {
   "cell_type": "code",
   "execution_count": 3,
   "id": "f3ff1d50-be21-4482-a22a-98429f663f99",
   "metadata": {},
   "outputs": [
    {
     "name": "stdout",
     "output_type": "stream",
     "text": [
      "Collecting cssselect\n",
      "  Downloading cssselect-1.2.0-py2.py3-none-any.whl (18 kB)\n",
      "Installing collected packages: cssselect\n",
      "Successfully installed cssselect-1.2.0\n"
     ]
    },
    {
     "name": "stderr",
     "output_type": "stream",
     "text": [
      "WARNING: You are using pip version 22.0.4; however, version 22.3 is available.\n",
      "You should consider upgrading via the 'C:\\Users\\LG PC\\Desktop\\Pro\\develop_tool\\python\\python.exe -m pip install --upgrade pip' command.\n"
     ]
    }
   ],
   "source": [
    "!pip install cssselect"
   ]
  },
  {
   "cell_type": "code",
   "execution_count": 4,
   "id": "a0988be0-feba-42dc-bf81-e23d469e5860",
   "metadata": {},
   "outputs": [],
   "source": [
    "# 라이브러리 import\n",
    "import requests\n",
    "from xml.etree import ElementTree\n",
    "from lxml.html import fromstring\n",
    "from lxml import html"
   ]
  },
  {
   "cell_type": "markdown",
   "id": "5ad4fcf3-8037-4873-a9c7-aeaf3a2fb193",
   "metadata": {},
   "source": [
    "# 크롤링 실습 1\n",
    " + 크롤링 대성 : hanb.co.kr\n",
    " + 한빛 출판네트워크 사이트의 '**새로나온책**' 페이지에서 '**도서명, 저자, 가격**' 들을 수집"
   ]
  },
  {
   "cell_type": "code",
   "execution_count": 5,
   "id": "2fe374a3-0e7b-4e30-8cbc-ea9e30cc3bd3",
   "metadata": {},
   "outputs": [],
   "source": [
    "# 크롤링할 대상 url 지정\n",
    "url = 'https://www.hanbit.co.kr/store/books/new_book_list.html'\n"
   ]
  },
  {
   "cell_type": "code",
   "execution_count": 6,
   "id": "b04511fd-dde7-41db-8125-684edfbbfd3f",
   "metadata": {},
   "outputs": [],
   "source": [
    "# 지정한 url에 get방식으로 접속해서 html 소스를 받아옴\n",
    "# requests.get(접속할주소)\n",
    "res = requests.get(url)"
   ]
  },
  {
   "cell_type": "code",
   "execution_count": 7,
   "id": "3168b2dc-e2b5-4703-9518-ea5ba9c61a59",
   "metadata": {},
   "outputs": [
    {
     "data": {
      "text/plain": [
       "200"
      ]
     },
     "execution_count": 7,
     "metadata": {},
     "output_type": "execute_result"
    }
   ],
   "source": [
    "# 요청결과 확인\n",
    "res.status_code"
   ]
  },
  {
   "cell_type": "code",
   "execution_count": 8,
   "id": "e31e7d87-778f-43ec-9a80-49b1e502a9df",
   "metadata": {},
   "outputs": [
    {
     "data": {
      "text/plain": [
       "{'Date': 'Wed, 26 Oct 2022 00:41:07 GMT', 'Server': 'Apache', 'X-Frame-Options': 'SAMEORIGIN', 'X-Powered-By': 'PHP/5.3.3', 'Set-Cookie': 'PHPSESSID=cit837enucmr5b2a47km9387k2; path=/, PHPSESSID=cit837enucmr5b2a47km9387k2; path=/; secure; SameSite=None', 'Expires': 'Thu, 19 Nov 1981 08:52:00 GMT', 'Cache-Control': 'no-store, no-cache, must-revalidate, post-check=0, pre-check=0', 'Pragma': 'no-cache', 'Connection': 'close', 'Transfer-Encoding': 'chunked', 'Content-Type': 'text/html; charset=UTF-8'}"
      ]
     },
     "execution_count": 8,
     "metadata": {},
     "output_type": "execute_result"
    }
   ],
   "source": [
    "# 요청에 대한 응답헤더 확인\n",
    "res.headers"
   ]
  },
  {
   "cell_type": "code",
   "execution_count": 9,
   "id": "bc4e19ff-64e6-4e61-8b39-924718a16c0b",
   "metadata": {
    "jp-MarkdownHeadingCollapsed": true,
    "tags": []
   },
   "outputs": [
    {
     "data": {
      "text/plain": [
       "'<!DOCTYPE html>\\r\\n<html lang=\"ko\">\\r\\n<head>\\r\\n<!--[if lte IE 8]>\\r\\n<script>\\r\\n  location.replace(\\'/support/explorer_upgrade.html\\');\\r\\n</script>\\r\\n<![endif]-->\\r\\n<meta charset=\"utf-8\"/>\\r\\n<title>한빛출판네트워크</title>\\r\\n<link rel=\"shortcut icon\" href=\"https://www.hanbit.co.kr/images/common/hanbit.ico\"> \\r\\n<meta http-equiv=\"X-UA-Compatible\" content=\"IE=Edge\" />\\r\\n<meta property=\"og:type\" content=\"website\"/>\\r\\n<meta property=\"og:title\" content=\"한빛출판네트워크\"/>\\r\\n<meta property=\"og:description\" content=\"더 넓은 세상, 더 나은 미래를 위'"
      ]
     },
     "execution_count": 9,
     "metadata": {},
     "output_type": "execute_result"
    }
   ],
   "source": [
    "# 응답으로 받은 소스 확인 (테스트 형식)\n",
    "res.text[:500]"
   ]
  },
  {
   "cell_type": "code",
   "execution_count": null,
   "id": "14c1d33d-c079-44b2-aae3-61d152bdc345",
   "metadata": {},
   "outputs": [],
   "source": []
  },
  {
   "cell_type": "markdown",
   "id": "b64a306e-0272-42a1-987a-27c19fe7e695",
   "metadata": {},
   "source": [
    "### CSS선택자나 xpath문법으로 필요한 요소 추출\n",
    " + cssselect(css선택자)4\n",
    " + xpath(xpath경로)"
   ]
  },
  {
   "cell_type": "code",
   "execution_count": 10,
   "id": "a85ab940-e8b4-4ac8-a317-94c2bc556808",
   "metadata": {},
   "outputs": [],
   "source": [
    "# 응답으로 받은 소스를 문서객체로 생성\n",
    "doctree = html.fromstring(res.text)"
   ]
  },
  {
   "cell_type": "code",
   "execution_count": 11,
   "id": "4c7a3514-7a21-4282-88e1-2ee001008fd4",
   "metadata": {},
   "outputs": [],
   "source": [
    "# 도서제목 : 모든 p 요소들 중에서 클래스명이 book_tit인 요소\n",
    "titles = doctree.cssselect('p.book_tit')"
   ]
  },
  {
   "cell_type": "code",
   "execution_count": 12,
   "id": "29c2bce9-2d8c-4684-830a-7f882a9fcbad",
   "metadata": {
    "tags": []
   },
   "outputs": [
    {
     "name": "stdout",
     "output_type": "stream",
     "text": [
      "데이터 과학을 위한 파이썬과 R\n",
      "리얼 호치민 [2022~2023]\n",
      "만화로 배우는 요리의 역사\n",
      "신비한 뮤직박스 1 : 판도리아에 온 걸 환영해\n",
      "STEM CookBook, 정수론 첫걸음\n",
      "[엉뚱소심 유령 탐정단]  1. 도서관 유령 소동\n",
      "[엉뚱소심 유령 탐정단]  2. 다락방 유령 사건\n",
      "전문가를 위한 C\n",
      "손목시계의 교양\n",
      "파이썬 라이브러리를 활용한 텍스트 분석\n",
      "국내 최다 이모티콘 승인 작가 씨엠제이가 알려주는 승인율 99.9% 이모티콘 만들기\n",
      "IT CookBook, C# 프로그래밍 for Beginner\n",
      "엄마의 말하기 연습 (20만부 기념 스페셜 에디션)\n",
      "엄마와 물건\n",
      "소프트웨어 아키텍처 The Hard Parts\n",
      "R과 jamovi를 활용한 한번에 적용하는 의학보건통계\n",
      "만화로 배우는 불멸의 역사\n",
      "파이썬 기반 금융 인공지능\n",
      "어쩌다 데이터 분석 with 파이썬\n",
      "글로벌 시장환경과 국제경영\n"
     ]
    }
   ],
   "source": [
    "# 객체명.text_content : 객체의 텍스트노드 값을 추출\n",
    "for title in titles:\n",
    "    print(title.text_content())"
   ]
  },
  {
   "cell_type": "code",
   "execution_count": 13,
   "id": "b3931bad-d5d7-4874-a2a2-32da2347faee",
   "metadata": {},
   "outputs": [],
   "source": [
    "# 도서저자 : \n",
    "writers = doctree.cssselect('p.book_writer')"
   ]
  },
  {
   "cell_type": "code",
   "execution_count": 14,
   "id": "b450fdac-3962-431b-928b-8a68dda37a21",
   "metadata": {
    "tags": []
   },
   "outputs": [
    {
     "name": "stdout",
     "output_type": "stream",
     "text": [
      "릭 슈카페타 , 보이안 앙겔로프 \n",
      "권예빈 \n",
      "브누아 시마 , 스테판 두에(그림) \n",
      "카르본 , 지제 \n",
      "Kuldeep Singh \n",
      "도리 힐레스타드 버틀러 , 오로르 다망(그림) \n",
      "도리 힐레스타드 버틀러 , 오로르 다망(그림) \n",
      "캄란 아미니 \n",
      "시노다 데쓰오 \n",
      "젠스 알브레히트 , 싯다르트 라마찬드란 , 크리스티안 윙클러 \n",
      "씨엠제이(최민정) \n",
      "우재남 \n",
      "박재연 \n",
      "심혜진 , 이입분(구술) \n",
      "닐 포드 , 마크 리처즈 , 프라모드 세달라지 , 세막 데그하니 \n",
      "히든그레이스 데이터분석팀 \n",
      "필리프 베르코비치 \n",
      "이브 힐피시 \n",
      "김유지(Clary K) \n",
      "이장로 , 신만수 , 김창수 \n"
     ]
    }
   ],
   "source": [
    "for writer in writers:\n",
    "    print(writer.text_content())"
   ]
  },
  {
   "cell_type": "code",
   "execution_count": 15,
   "id": "756af271-e68f-4df8-9add-d6b7067807d6",
   "metadata": {},
   "outputs": [],
   "source": [
    "# 도서가격 : 모든 span 요소들 중에서 클래스명이 price인 요소\n",
    "prices = doctree.cssselect('span.price')"
   ]
  },
  {
   "cell_type": "code",
   "execution_count": 16,
   "id": "769c204b-acae-4513-8132-549e28ac2493",
   "metadata": {
    "tags": []
   },
   "outputs": [
    {
     "name": "stdout",
     "output_type": "stream",
     "text": [
      "16200\n",
      "16200\n",
      "18810\n",
      "13500\n",
      "33000\n",
      "11700\n",
      "11700\n",
      "49500\n",
      "22500\n",
      "31500\n",
      "13500\n",
      "27000\n",
      "13320\n",
      "15120\n",
      "32400\n",
      "32000\n",
      "17550\n",
      "37800\n",
      "25200\n",
      "40000\n"
     ]
    }
   ],
   "source": [
    "for price in prices:\n",
    "    price = price.text_content()\n",
    "    price = price.replace(',','')\n",
    "    price = price.replace('원','')\n",
    "    print(price)"
   ]
  },
  {
   "cell_type": "markdown",
   "id": "4a471562-ffbe-44af-afc7-5437907c1a23",
   "metadata": {},
   "source": [
    "## 추출한 데이터들을 csv파일에 저장"
   ]
  },
  {
   "cell_type": "markdown",
   "id": "a9fa4cdc-cb00-4949-9d88-18367502a1e6",
   "metadata": {},
   "source": [
    "### 추출한 데이터들을 리스트에 저장"
   ]
  },
  {
   "cell_type": "code",
   "execution_count": 32,
   "id": "a56a5134-efbe-4839-ad4f-056a674b105e",
   "metadata": {
    "tags": []
   },
   "outputs": [
    {
     "name": "stdout",
     "output_type": "stream",
     "text": [
      "[['데이터 과학을 위한 파이썬과 R', '릭 슈카페타 , 보이안 앙겔로프 ', 16200], ['리얼 호치민 [2022~2023]', '권예빈 ', 16200], ['만화로 배우는 요리의 역사', '브누아 시마 , 스테판 두에(그림) ', 18810], ['신비한 뮤직박스 1 : 판도리아에 온 걸 환영해', '카르본 , 지제 ', 13500], ['STEM CookBook, 정수론 첫걸음', 'Kuldeep Singh ', 33000], ['[엉뚱소심 유령 탐정단]  1. 도서관 유령 소동', '도리 힐레스타드 버틀러 , 오로르 다망(그림) ', 11700], ['[엉뚱소심 유령 탐정단]  2. 다락방 유령 사건', '도리 힐레스타드 버틀러 , 오로르 다망(그림) ', 11700], ['전문가를 위한 C', '캄란 아미니 ', 49500], ['손목시계의 교양', '시노다 데쓰오 ', 22500], ['파이썬 라이브러리를 활용한 텍스트 분석', '젠스 알브레히트 , 싯다르트 라마찬드란 , 크리스티안 윙클러 ', 31500], ['국내 최다 이모티콘 승인 작가 씨엠제이가 알려주는 승인율 99.9% 이모티콘 만들기', '씨엠제이(최민정) ', 13500], ['IT CookBook, C# 프로그래밍 for Beginner', '우재남 ', 27000], ['엄마의 말하기 연습 (20만부 기념 스페셜 에디션)', '박재연 ', 13320], ['엄마와 물건', '심혜진 , 이입분(구술) ', 15120], ['소프트웨어 아키텍처 The Hard Parts', '닐 포드 , 마크 리처즈 , 프라모드 세달라지 , 세막 데그하니 ', 32400], ['R과 jamovi를 활용한 한번에 적용하는 의학보건통계', '히든그레이스 데이터분석팀 ', 32000], ['만화로 배우는 불멸의 역사', '필리프 베르코비치 ', 17550], ['파이썬 기반 금융 인공지능', '이브 힐피시 ', 37800], ['어쩌다 데이터 분석 with 파이썬', '김유지(Clary K) ', 25200], ['글로벌 시장환경과 국제경영', '이장로 , 신만수 , 김창수 ', 40000]]\n"
     ]
    }
   ],
   "source": [
    "books = []\n",
    "titles = doctree.cssselect('p.book_tit')\n",
    "writers = doctree.cssselect('p.book_writer')\n",
    "prices = doctree.cssselect('span.price')\n",
    "for i in range(len(titles)):\n",
    "    book = []\n",
    "    price = prices[i].text_content().replace(',','').replace('원','')\n",
    "    book.append(titles[i].text_content())\n",
    "    book.append(writers[i].text_content())\n",
    "    book.append(int(price))\n",
    "    books.append(book)\n",
    "    \n",
    "print(books)"
   ]
  },
  {
   "cell_type": "markdown",
   "id": "e95aa5ac-b057-4d5e-b608-4f95b26f6383",
   "metadata": {},
   "source": [
    "### 리스트에 저장된 데이터들을 csv 파일에 저장"
   ]
  },
  {
   "cell_type": "code",
   "execution_count": 36,
   "id": "73cc1a2b-a863-49bb-8916-55e4066e4d66",
   "metadata": {},
   "outputs": [],
   "source": [
    "# 저장형식1 : \"tit, 'writ','pri'\n",
    "header = 'title,writer,price\\n'\n",
    "\n",
    "with open('data/newbooks.csv','a',encoding='utf-8') as f:\n",
    "    f.write(header)\n",
    "    for i in range(len(titles)):\n",
    "        title, writer, price = titles[i].text_content(), writers[i].text_content(), prices[i].text_content().replace(',','').replace('원','')\n",
    "        f.write(f'\"{title}\",\"{writer}\",{price}\\n')"
   ]
  },
  {
   "cell_type": "code",
   "execution_count": 19,
   "id": "3dd366e4-79ec-4060-8d14-6bef257d7ace",
   "metadata": {
    "tags": []
   },
   "outputs": [
    {
     "name": "stdout",
     "output_type": "stream",
     "text": [
      "Requirement already satisfied: pandas in c:\\users\\lg pc\\lib\\site-packages (1.5.1)\n",
      "Requirement already satisfied: pytz>=2020.1 in c:\\users\\lg pc\\lib\\site-packages (from pandas) (2022.5)\n",
      "Requirement already satisfied: python-dateutil>=2.8.1 in c:\\users\\lg pc\\lib\\site-packages (from pandas) (2.8.2)\n",
      "Requirement already satisfied: numpy>=1.20.3 in c:\\users\\lg pc\\lib\\site-packages (from pandas) (1.23.4)\n",
      "Requirement already satisfied: six>=1.5 in c:\\users\\lg pc\\lib\\site-packages (from python-dateutil>=2.8.1->pandas) (1.16.0)\n"
     ]
    },
    {
     "name": "stderr",
     "output_type": "stream",
     "text": [
      "WARNING: You are using pip version 21.3.1; however, version 22.3 is available.\n",
      "You should consider upgrading via the 'C:\\Users\\LG PC\\Scripts\\python.exe -m pip install --upgrade pip' command.\n"
     ]
    }
   ],
   "source": [
    "!pip install pandas"
   ]
  },
  {
   "cell_type": "code",
   "execution_count": 20,
   "id": "35bbea24-08ca-4b64-a397-4bb2083d80cb",
   "metadata": {},
   "outputs": [],
   "source": [
    "import pandas as pd"
   ]
  },
  {
   "cell_type": "code",
   "execution_count": 21,
   "id": "f65c7f45-fbc3-47c4-b03c-378f77734fb2",
   "metadata": {},
   "outputs": [],
   "source": [
    "df = pd.DataFrame(books, columns = ['title','writer','price'])\n",
    "df.to_csv('book_csv.csv',index=False,encoding='utf-8')"
   ]
  },
  {
   "cell_type": "markdown",
   "id": "450eeb4f-70ae-4050-b997-ee768ded0dad",
   "metadata": {},
   "source": [
    "## 추출한 데이터들을 데이터베이스에 저장"
   ]
  },
  {
   "cell_type": "code",
   "execution_count": 22,
   "id": "09ac58c1-cf39-43d3-8658-409e8b7a8ae0",
   "metadata": {},
   "outputs": [],
   "source": [
    "# 크롤링된 데이터 저장용 테이블 정의\n",
    "# create table newbooks(\n",
    "# title varchar(30) primary key,\n",
    "# writer varchar(20),\n",
    "# price int,\n",
    "# )"
   ]
  },
  {
   "cell_type": "code",
   "execution_count": 23,
   "id": "58ce7f34-285e-4181-92a6-6a236f2dec24",
   "metadata": {},
   "outputs": [
    {
     "name": "stdout",
     "output_type": "stream",
     "text": [
      "Requirement already satisfied: pymysql in c:\\users\\lg pc\\lib\\site-packages (1.0.2)\n"
     ]
    },
    {
     "name": "stderr",
     "output_type": "stream",
     "text": [
      "WARNING: You are using pip version 21.3.1; however, version 22.3 is available.\n",
      "You should consider upgrading via the 'C:\\Users\\LG PC\\Scripts\\python.exe -m pip install --upgrade pip' command.\n"
     ]
    }
   ],
   "source": [
    "!pip install pymysql"
   ]
  },
  {
   "cell_type": "code",
   "execution_count": 24,
   "id": "4bc078f6-03a1-44de-a1b9-2d3a9cd90f20",
   "metadata": {},
   "outputs": [],
   "source": [
    "import pymysql"
   ]
  },
  {
   "cell_type": "code",
   "execution_count": 25,
   "id": "a248f6ce-b027-49e3-b5c5-4432d910326b",
   "metadata": {},
   "outputs": [],
   "source": [
    "url = 'bigdata.ccdt7ih2qkyl.ap-northeast-2.rds.amazonaws.com'\n",
    "userid = 'admin'\n",
    "passwd = 'Bigdata_2022'\n",
    "dbname = 'bigdata'\n",
    "\n",
    "conn = pymysql.connect(host=url,user=userid,password=passwd,\n",
    "                       database=dbname,charset='utf8')\n",
    "\n",
    "for i in range(len(books)):\n",
    "    cur = conn.cursor()\n",
    "    sql = 'insert into newbooks(title,writer,price) values(%s,%s,%s)'\n",
    "    cur.execute(sql,books[i])\n",
    "    conn.commit()\n",
    "\n",
    "cur.close()\n",
    "conn.close()\n",
    "\n"
   ]
  },
  {
   "cell_type": "markdown",
   "id": "abd7ce31-cb18-4d80-b48d-76bc8f209c27",
   "metadata": {},
   "source": [
    "### 리스트에 저장된 데이터들을 JSON 파일에 저장"
   ]
  },
  {
   "cell_type": "code",
   "execution_count": 30,
   "id": "c4a403bb-62f6-4d2e-9f18-776e7dca54d4",
   "metadata": {},
   "outputs": [],
   "source": [
    "import json\n",
    "from collections import OrderedDict"
   ]
  },
  {
   "cell_type": "code",
   "execution_count": 35,
   "id": "bec3f865-23a0-4275-ace7-d7a5fc53af44",
   "metadata": {
    "tags": []
   },
   "outputs": [],
   "source": [
    "# 저장형식 : {'title':, 'writer':,'price':}\n",
    "\n",
    "books = []\n",
    "with open('data/newbooks.json','a',encoding='utf-8') as f:\n",
    "    for i in range(len(titles)):\n",
    "        book = OrderedDict()\n",
    "        book['title'] = titles[i].text_content()\n",
    "        book['writer'] = writers[i].text_content()\n",
    "        book['price'] = prices[i].text_content().replace(',','').replace('원','')\n",
    "        books.append(book)\n",
    "        \n",
    "    f.write(json.dumps(books,ensure_ascii=False))"
   ]
  }
 ],
 "metadata": {
  "kernelspec": {
   "display_name": "Python 3.9.13 64-bit",
   "language": "python",
   "name": "python3"
  },
  "language_info": {
   "codemirror_mode": {
    "name": "ipython",
    "version": 3
   },
   "file_extension": ".py",
   "mimetype": "text/x-python",
   "name": "python",
   "nbconvert_exporter": "python",
   "pygments_lexer": "ipython3",
   "version": "3.9.13"
  },
  "vscode": {
   "interpreter": {
    "hash": "3ed665000513fafed223c4a9ba808b59f1db4eb939372fd67dd56667510ebfbc"
   }
  }
 },
 "nbformat": 4,
 "nbformat_minor": 5
}
