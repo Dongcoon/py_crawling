{
 "cells": [
  {
   "cell_type": "markdown",
   "id": "30896a82-8af4-4b08-a35e-86e84ba9d79b",
   "metadata": {},
   "source": [
    "# 크롤링 실습 1\n",
    " + 크롤링 대성 : hanb.co.kr\n",
    " + 한빛 출판네트워크 사이트의 '**새로나온책**' 페이지에서 '**도서명, 저자, 가격**' 들을 수집\n",
    " + 1 ~ 5 페이지 분량의 도서 정보 수집"
   ]
  },
  {
   "cell_type": "code",
   "execution_count": 44,
   "id": "7da8a1ae-995b-437e-815c-4612ce9530c4",
   "metadata": {},
   "outputs": [],
   "source": [
    "import time \n",
    "import requests\n",
    "from xml.etree import ElementTree\n",
    "from lxml.html import fromstring\n",
    "from lxml import html"
   ]
  },
  {
   "cell_type": "code",
   "execution_count": 71,
   "id": "8adab7ae-eb48-475e-9ca7-a8e36f19ba99",
   "metadata": {
    "tags": []
   },
   "outputs": [],
   "source": [
    "# 크롤링 관련 변수 정의\n",
    "url = 'https://www.hanbit.co.kr/store/books/new_book_list.html'\n",
    "header = {'user-agent':'Mozilla/5.0 (Windows NT 10.0; Win64; x64) AppleWebKit/537.36 (KHTML, like Gecko) Chrome/106.0.0.0 Safari/537.36'}"
   ]
  },
  {
   "cell_type": "markdown",
   "id": "bedba299-62b7-4c53-b35d-8979c2a76981",
   "metadata": {
    "tags": []
   },
   "source": [
    "## 추출한 데이터들을 리스트에 저장"
   ]
  },
  {
   "cell_type": "code",
   "execution_count": null,
   "id": "48bc7446-7e91-422b-894a-e4993ab57b9e",
   "metadata": {},
   "outputs": [],
   "source": [
    "books = []\n",
    "\n",
    "for i in range(1,5+1):\n",
    "    # 질의문자열을 위해 params 변수 정의\n",
    "    param = {'page': i}\n",
    "    # http header와 질의문자열을 이용해서 requests 모듈 호출\n",
    "    res = requests.get(url, headers=header, params=param)\n",
    "    doctree = html.fromstring(res.text)\n",
    "\n",
    "    titles = doctree.cssselect('p.book_tit')\n",
    "    writers = doctree.cssselect('p.book_writer')\n",
    "    prices = doctree.cssselect('span.price') \n",
    "    for i in range(len(titles)):\n",
    "        book = []\n",
    "        price = prices[i].text_content().replace(',','').replace('원','')\n",
    "        book.append(titles[i].text_content())\n",
    "        book.append(writers[i].text_content())\n",
    "        book.append(int(price))\n",
    "        books.append(book)\n",
    "    time.sleep(2)  # 2초동안 잠시 대기 \n",
    "print(books)"
   ]
  },
  {
   "cell_type": "code",
   "execution_count": 39,
   "id": "d52e4dcb-1403-4f73-b495-456e965db548",
   "metadata": {},
   "outputs": [
    {
     "name": "stdout",
     "output_type": "stream",
     "text": [
      "100\n"
     ]
    }
   ],
   "source": [
    "print(len(books[]))"
   ]
  },
  {
   "cell_type": "markdown",
   "id": "8bec79f5-769c-4c15-aedb-ee9383d541d9",
   "metadata": {
    "tags": []
   },
   "source": [
    "## 리스트에 저장된 데이터들을 csv 파일에 저장"
   ]
  },
  {
   "cell_type": "code",
   "execution_count": 60,
   "id": "e90ed4ef-2e92-41bb-a588-fd4e4ac0f27d",
   "metadata": {},
   "outputs": [],
   "source": [
    "books = []\n",
    "titles,writers,prices = [],[],[]\n",
    "\n",
    "for i in range(1,5+1):\n",
    "    # 질의문자열을 위해 params 변수 정의\n",
    "    param = {'page': i}\n",
    "    # http header와 질의문자열을 이용해서 requests 모듈 호출\n",
    "    res = requests.get(url, headers=header, params=param)\n",
    "    doctree = html.fromstring(res.text)\n",
    "\n",
    "    docs = doctree.cssselect('p.book_tit')\n",
    "    for title in docs:\n",
    "        titles.append(title.text_content())\n",
    "    docs = doctree.cssselect('p.book_writer')\n",
    "    for writer in docs:\n",
    "        writers.append(writer.text_content().replace(',','').replace('원',''))\n",
    "    docs = doctree.cssselect('span.price') \n",
    "    for price in docs:\n",
    "        prices.append(price.text_content())\n",
    "time.sleep(2)  # 2초동안 잠시 대기 \n"
   ]
  },
  {
   "cell_type": "code",
   "execution_count": 61,
   "id": "6a0f007b-102d-49da-bdd4-4167e08ca9ad",
   "metadata": {},
   "outputs": [
    {
     "name": "stdout",
     "output_type": "stream",
     "text": [
      "100 100 100\n"
     ]
    }
   ],
   "source": [
    "print(len(titles),len(writers),len(prices))"
   ]
  },
  {
   "cell_type": "code",
   "execution_count": 64,
   "id": "0d560496-703b-4760-b907-98085189bce6",
   "metadata": {},
   "outputs": [],
   "source": [
    "header = 'title,writer,price\\n'\n",
    "with open('data/newbooks_page.csv','a',encoding='utf-8') as f:\n",
    "    f.write(header)\n",
    "    for i in range(len(titles)):\n",
    "        title, writer, price = titles[i], writers[i], prices[i]\n",
    "        f.write(f'\"{title}\",\"{writer}\",{price}\\n')"
   ]
  },
  {
   "cell_type": "markdown",
   "id": "e68c1744-5c16-49a4-a170-5150f8a6125f",
   "metadata": {},
   "source": [
    "## 리스트에 저장된 데이터들을 JSON 파일에 저장"
   ]
  },
  {
   "cell_type": "code",
   "execution_count": 66,
   "id": "de840eda-473a-4a08-bde2-f39bdff0c7bb",
   "metadata": {},
   "outputs": [],
   "source": [
    "import json\n",
    "from collections import OrderedDict"
   ]
  },
  {
   "cell_type": "code",
   "execution_count": 69,
   "id": "a571de0a-a487-4b35-9991-24da05edb817",
   "metadata": {},
   "outputs": [],
   "source": [
    "# 저장형식 : {'title':, 'writer':,'price':}\n",
    "\n",
    "books = []\n",
    "with open('data/newbooks_page.json','a',encoding='utf-8') as f:\n",
    "    for i in range(len(titles)):\n",
    "        book = OrderedDict()\n",
    "        book['title'] = titles[i]\n",
    "        book['writer'] = writers[i]\n",
    "        book['price'] = prices[i]\n",
    "        books.append(book)\n",
    "        \n",
    "    f.write(json.dumps(books,ensure_ascii=False))"
   ]
  }
 ],
 "metadata": {
  "kernelspec": {
   "display_name": "Python 3 (ipykernel)",
   "language": "python",
   "name": "python3"
  },
  "language_info": {
   "codemirror_mode": {
    "name": "ipython",
    "version": 3
   },
   "file_extension": ".py",
   "mimetype": "text/x-python",
   "name": "python",
   "nbconvert_exporter": "python",
   "pygments_lexer": "ipython3",
   "version": "3.9.13"
  }
 },
 "nbformat": 4,
 "nbformat_minor": 5
}
