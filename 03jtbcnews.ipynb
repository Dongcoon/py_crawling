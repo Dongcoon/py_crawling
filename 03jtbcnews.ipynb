{
 "cells": [
  {
   "cell_type": "markdown",
   "id": "17a058a4-9ceb-4684-86fd-2513b8bd7fef",
   "metadata": {
    "tags": []
   },
   "source": [
    "### 크롤링 실습 3\n",
    "   + jtbc news 사이트의 **속보 페이지**에서\n",
    "   + **제목, 기사미리보기, 카테고리, 기자명, 송고날짜**를 추출\n",
    "   + title, preview, category, reporter, pdate\n",
    "       * 파일에 저장 : jtbcnews.json  "
   ]
  },
  {
   "cell_type": "markdown",
   "id": "37e92a4f-ccad-45de-9aca-c2400bb3726b",
   "metadata": {},
   "source": [
    "## 리스트"
   ]
  },
  {
   "cell_type": "code",
   "execution_count": 41,
   "id": "8e902e8d-019b-458e-915e-2861743b34c1",
   "metadata": {},
   "outputs": [],
   "source": [
    "import requests\n",
    "from lxml import html"
   ]
  },
  {
   "cell_type": "code",
   "execution_count": 42,
   "id": "ebebba3e-091b-479c-ad3c-5bcd8e68efb2",
   "metadata": {},
   "outputs": [],
   "source": [
    "url = 'https://news.jtbc.co.kr/section/list.aspx?scode='\n",
    "header = {'user-agent':'Mozilla/5.0 (Windows NT 10.0; Win64; x64) AppleWebKit/537.36 (KHTML, like Gecko) Chrome/106.0.0.0 Safari/537.36'}"
   ]
  },
  {
   "cell_type": "code",
   "execution_count": 43,
   "id": "6eb8ff59-d510-49ee-996c-7468c1a5df08",
   "metadata": {},
   "outputs": [],
   "source": [
    "def to24h(time):\n",
    "    # 2022-10-26 오전 11:56:00\n",
    "    pd = time.split(' ')\n",
    "    pt = pd[2].split(':')\n",
    "    \n",
    "    if (pd[1] == '오후') and (pt[0] != '12'):\n",
    "        pt[0] = int(pt[0]) + 12\n",
    "        \n",
    "    elif (pd[1] == '오전') and (pt[0] == '12'):\n",
    "        pt[0] = int(pt[0]) - 12\n",
    "        \n",
    "    time = f'{pd[0]} {pt[0]}:{pt[1]}:{pt[2]}'\n",
    "    return time"
   ]
  },
  {
   "cell_type": "code",
   "execution_count": 49,
   "id": "4414bbbf-fb91-4f5a-ba43-950e58aa7494",
   "metadata": {},
   "outputs": [
    {
     "name": "stdout",
     "output_type": "stream",
     "text": [
      "[['\\'변론을\\' 이상희 \"많이 배웠던 드라마…애정해 주셔서 감사해\"', \"'스맨파' 엠비셔스의 1위… 원밀리언·어때 충격의 탈락\", '미국 캘리포니아서 규모 5.1 지진 \"2014년 이후 가장 강력\"', \"'두 번째 세계' 4라운드 미션 세 곡 오늘(26일) 음원 발매\", '한혜진, 정호연과 불화설 마침표 \"좋은 사이\"', '\"핵훈련 하겠다\" 통보한 러…\\'방사능 폭탄\\' 준비 중?', \"'결혼에 진심' 윤지성, 스페셜 MC로 출격! 뛰어난 몰입력으로 활약\", \"'한블리' 신호 착각해 급정거한 앞차 vs 뒤에서 박은 블박차, 과실의 무게는 어느 쪽?\", \"'세계 다크투어' O.J. 심슨 살인사건 진실 향한 세기의 재판 개정\", \"'두 번째 세계' 미미&문수아, 각각 김선유&유빈 꺾고 압승!\", '박수홍 측 \"검찰, 유튜버 김용호 거짓주장 모두 인정 기소\"', '\"마법 같은 능력과 본능적인 자질\"...임윤찬, 글로벌 클래식 매니지먼트사 IMG와 계약', '조상준 국가정보원 기조실장, 사의 표명', '윤, 야당 시정연설 불참에 \"30년 헌정사 관행 어제부로 무너져\"', '동절기 추가접종 18살 이상 성인 확대…2가 백신 3종 활용'], [\"'변론을 시작하겠습니다'  배우 이상희가 '변론을 시작하겠습니다' 종영에 앞서 감사한 마음이 가득 담긴 소감을 26일 전했다.  디즈니+ 오리지널 시리즈 '변론을 시작하겠...\", \"스맨파  '스트릿 맨 파이터(이하 스맨파)' 결승에 올라간 네 팀이 결정됐다.  25일 방송된 Mnet '스맨파'에서는 세미파이널 미션 '뮤즈 오브 스맨파' 무대가 꾸며졌다.  ...\", '〈사진=미국 지질조사국 트위터 캡처〉  미국 지질조사국은 현지시간 25일 오전 11시 42분쯤 캘리포니아주 세븐 트리스 인근 지역에서 5.1 규모의 지진이 발생했다고 밝혔다고 미국 ...', \"두 번째 세계  '두 번째 세계' 4라운드에서 미미·문수아·유빈이 선보인 무대의 음원이 공개된다.  JTBC '두 번째 세계' 음원이 26일 정오 각종 음원사이트서 발매, 미미의...\", \"한혜진  모델 한혜진이 후배 정호연과의 불화설에 대해 종지부를 찍었다. 한혜진은 25일 자신의 유튜브 채널에 '소문과 진실! 솔직하게 다 말하는 한예진 Q&A'라는 제목...\", '블라디미르 푸틴 러시아 대통령. 〈사진=로이터 연합뉴스〉  러시아가 핵 훈련을 실시하겠다고 미국에 통보했다는 외신 보도가 나왔습니다.  25일(현지시간) 로이터, CBS 뉴...', \"모두를 혼란에 빠트릴 결심남녀들의 정보가 공개된다.  내일(27일) 방송되는 JTBC '결혼에 진심'에서는 러브라인을 뒤흔들 결심남녀들(결혼에 진심인 남녀들)의 '정보 공개 데이트'가 펼쳐진다. 이와 함께 해외 스케...\", \"'한문철의 블랙박스 리뷰'에서 교통 신호 체계 문제로 번진 사고에 대해 불꽃 튀는 논쟁을 벌인다.내일(27일) 저녁 8시 50분에 방송될 JTBC '한문철의 블랙박스 리뷰'(기획·연출 민철기/ 이하 '한블리')에서...\", \"미국 전역을 뒤흔든 살인사건의 진위를 가리기 위한 세기의 재판이 열린다.오늘(26일) 방송되는 JTBC '세계 다크투어'(기획 성치경, 연출 오재승)에서는 미국 최고의 스포츠 스타이자 레전드 미식축구 선수 O.J. 심...\", \"JTBC '두 번째 세계'의 미미와 문수아가 각각 김선유와 유빈을 꺾고 5:0 압승을 거뒀다. 신지민과 문별의 마지막 대결만 남겨둔 가운데, 본선 마지막 라운드인 4라운드 '데스매치'에서 생존할 5인이 누가 될지 궁금...\", '박수홍  개그맨 박수홍을 비방했던 유튜버 김용호가 허위사실 명예훼손, 강요미수, 모욕 등의 혐의로 검찰에 불구속 기소됐다. 박수홍의 법률대리인 법무법인 에스 노종...', \"피아니스트 임윤찬미국 반 클라이번 국제 콩쿠르에서 역대 최연소인 만 18살에 우승한 피아니스트 임윤찬이 세계적인 클래식 아티스트 전문 매니지먼트사 'IMG 아티스츠'와 ...\", '조상준 국가정보원 기획조정실장. 〈사진-국회사진기자단〉조상준 국가정보원 기획조정실장이 국회 정보위원회 국정원 국정감사를 앞두고 사의를 표명했습니다.오늘(26일) 국정원 관계자는 \"일신상의 사유로 알고 있...', '윤석열 대통령은 시정연설에 야당이 불참한 것과 관련해 \"지난 30여 년간 우리 헌정사에 하나의 관행으로 굳어져 온 것이 어제부로 무너졌다\"고 말했습니다.  윤 대통령은 오늘(26일) 서울 용산 대통령실...', '이상민 중앙재난안전대책본부 2차장(행정안전부 장관)이 26일 오전 정부서울청사 중앙재난안전상황실 서울상황센터에서 열린 코로나19 대응 중대본 회의를 주재하고 있다. 〈사진=연합뉴스〉정부가 동절기 신종 코로...'], ['연예', '연예', '국제', '연예', '연예', '국제', '연예', '연예', '연예', '연예', '연예', '문화', '정치', '정치', '사회'], ['박정선 기자', '박상후 기자', '한류경 기자', '김진석 기자', '황소영 기자', '유혜은 기자', '', '', '', '', '황소영 기자', '이선화 기자', '허경진 기자', '장연제 기자', '이세현 기자'], ['2022-10-26 10:54:00', '2022-10-26 10:45:00', '2022-10-26 10:44:00', '2022-10-26 10:39:00', '2022-10-26 10:38:00', '2022-10-26 10:32:00', '2022-10-26 10:29:00', '2022-10-26 10:27:00', '2022-10-26 10:27:00', '2022-10-26 10:26:00', '2022-10-26 10:21:00', '2022-10-26 10:19:00', '2022-10-26 10:05:00', '2022-10-26 9:44:00', '2022-10-26 9:42:00']]\n"
     ]
    }
   ],
   "source": [
    "news = [titles,contents,category,writers,regdate]\n",
    "titles,contents,category,writers,regdate = [],[],[],[],[]\n",
    "\n",
    "# for i in range(1,2+1):\n",
    "# 질의문자열을 위해 params 변수 정의\n",
    "param = {'pgi': i}\n",
    "# http header와 질의문자열을 이용해서 requests 모듈 호출\n",
    "res = requests.get(url, headers=header, params=param)\n",
    "doctree = html.fromstring(res.text)\n",
    "\n",
    "docs = doctree.cssselect('dt.title_cr a')\n",
    "for title in docs:\n",
    "    tit = title.text_content()\n",
    "    titles.append(tit)\n",
    "\n",
    "docs = doctree.cssselect('dd.desc a')\n",
    "for content in docs:\n",
    "    cnt = content.text_content().strip().replace('   ','')\n",
    "    contents.append(cnt)\n",
    "\n",
    "docs = doctree.cssselect('span.location')\n",
    "for ctg in docs:\n",
    "    cate = ctg.text_content().replace('[JTBC','').replace(']','').replace('>','').strip()\n",
    "    category.append(cate)\n",
    "\n",
    "docs = doctree.cssselect('span.writer') \n",
    "for writer in docs:\n",
    "    wrt = writer.text_content().strip()\n",
    "    writers.append(wrt)\n",
    "\n",
    "docs = doctree.cssselect('span.date') \n",
    "for rgd in docs:\n",
    "    pdate = rgd.text_content().strip()\n",
    "    regdate.append(to24h(pdate))\n",
    "print(news)"
   ]
  },
  {
   "cell_type": "code",
   "execution_count": 46,
   "id": "a7066b47-23c3-469c-a08a-c79aeeb58571",
   "metadata": {},
   "outputs": [
    {
     "name": "stdout",
     "output_type": "stream",
     "text": [
      "15 15 15 15 15\n"
     ]
    }
   ],
   "source": [
    "print(len(titles),len(contents),len(category),len(writers),len(regdate))"
   ]
  },
  {
   "cell_type": "markdown",
   "id": "f02a3505-260f-4d64-ab17-50a537cc4a4c",
   "metadata": {},
   "source": [
    "## CSV"
   ]
  },
  {
   "cell_type": "code",
   "execution_count": 21,
   "id": "d18a31fa-53a5-4364-af8b-51100662956d",
   "metadata": {},
   "outputs": [
    {
     "ename": "IndexError",
     "evalue": "list index out of range",
     "output_type": "error",
     "traceback": [
      "\u001b[1;31m---------------------------------------------------------------------------\u001b[0m",
      "\u001b[1;31mIndexError\u001b[0m                                Traceback (most recent call last)",
      "Cell \u001b[1;32mIn [21], line 5\u001b[0m\n\u001b[0;32m      3\u001b[0m f\u001b[38;5;241m.\u001b[39mwrite(header)\n\u001b[0;32m      4\u001b[0m \u001b[38;5;28;01mfor\u001b[39;00m i \u001b[38;5;129;01min\u001b[39;00m \u001b[38;5;28mrange\u001b[39m(\u001b[38;5;28mlen\u001b[39m(titles)):\n\u001b[1;32m----> 5\u001b[0m     title,content,ctg, writer, rgd \u001b[38;5;241m=\u001b[39m titles[i],\u001b[43mcontents\u001b[49m\u001b[43m[\u001b[49m\u001b[43mi\u001b[49m\u001b[43m]\u001b[49m,category[i], writers[i], regdate[i]\n\u001b[0;32m      6\u001b[0m     f\u001b[38;5;241m.\u001b[39mwrite(\u001b[38;5;124mf\u001b[39m\u001b[38;5;124m'\u001b[39m\u001b[38;5;124m\"\u001b[39m\u001b[38;5;132;01m{\u001b[39;00mtitle\u001b[38;5;132;01m}\u001b[39;00m\u001b[38;5;124m\"\u001b[39m\u001b[38;5;124m,\u001b[39m\u001b[38;5;124m\"\u001b[39m\u001b[38;5;132;01m{\u001b[39;00mcontent\u001b[38;5;132;01m}\u001b[39;00m\u001b[38;5;124m\"\u001b[39m\u001b[38;5;124m,\u001b[39m\u001b[38;5;124m\"\u001b[39m\u001b[38;5;132;01m{\u001b[39;00mctg\u001b[38;5;132;01m}\u001b[39;00m\u001b[38;5;124m\"\u001b[39m\u001b[38;5;124m,\u001b[39m\u001b[38;5;124m\"\u001b[39m\u001b[38;5;132;01m{\u001b[39;00mwriter\u001b[38;5;132;01m}\u001b[39;00m\u001b[38;5;124m\"\u001b[39m\u001b[38;5;124m,\u001b[39m\u001b[38;5;132;01m{\u001b[39;00mrgd\u001b[38;5;132;01m}\u001b[39;00m\u001b[38;5;130;01m\\n\u001b[39;00m\u001b[38;5;124m'\u001b[39m)\n",
      "\u001b[1;31mIndexError\u001b[0m: list index out of range"
     ]
    }
   ],
   "source": [
    "header = '제목,기사미리보기,카테고리,기자,날짜\\t\\n'\n",
    "with open('data/JTBC.csv','a',encoding='utf-8') as f:\n",
    "    f.write(header)\n",
    "    for i in range(len(titles)):\n",
    "        title, content, ctg, writer, rgd = titles[i],contents[i],category[i], writers[i], regdate[i]\n",
    "        f.write(f'\"{title}\",\"{content}\",\"{ctg}\",\"{writer}\",{rgd}\\n')"
   ]
  },
  {
   "cell_type": "markdown",
   "id": "dd3f30a5-592a-4e83-b22c-7f9f26e70b1f",
   "metadata": {},
   "source": [
    "## JSON"
   ]
  },
  {
   "cell_type": "code",
   "execution_count": 17,
   "id": "eb1a4513-3bd6-4319-9f9d-8baf50bd5dbd",
   "metadata": {},
   "outputs": [],
   "source": [
    "import json\n",
    "from collections import OrderedDict"
   ]
  },
  {
   "cell_type": "code",
   "execution_count": 48,
   "id": "e4ef9095-37cb-4105-8860-b92975342349",
   "metadata": {},
   "outputs": [],
   "source": [
    "# 저장형식 : {'title':, 'writer':,'price':}\n",
    "\n",
    "JTBC = []\n",
    "with open('data/JDBC.json','a',encoding='utf-8') as f:\n",
    "    for i in range(len(titles)):\n",
    "        new = OrderedDict()\n",
    "        new['제목'] = titles[i]\n",
    "        new['기사미리보기'] = contents[i]\n",
    "        new['카테고리'] = category[i]\n",
    "        new['기자명'] = writers[i]\n",
    "        new['송고날짜'] = regdate[i]\n",
    "        JTBC.append(new)\n",
    "        \n",
    "    f.write(json.dumps(JTBC,ensure_ascii=False))"
   ]
  },
  {
   "cell_type": "code",
   "execution_count": null,
   "id": "4b581fe5-c752-410a-9ebf-d5647b11af81",
   "metadata": {},
   "outputs": [],
   "source": []
  }
 ],
 "metadata": {
  "kernelspec": {
   "display_name": "Python 3 (ipykernel)",
   "language": "python",
   "name": "python3"
  },
  "language_info": {
   "codemirror_mode": {
    "name": "ipython",
    "version": 3
   },
   "file_extension": ".py",
   "mimetype": "text/x-python",
   "name": "python",
   "nbconvert_exporter": "python",
   "pygments_lexer": "ipython3",
   "version": "3.9.13"
  }
 },
 "nbformat": 4,
 "nbformat_minor": 5
}
