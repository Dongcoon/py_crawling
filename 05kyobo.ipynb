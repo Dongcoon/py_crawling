{
 "cells": [
  {
   "cell_type": "markdown",
   "id": "3714c0d7-19b7-4213-aeb0-dc8f5ec19559",
   "metadata": {
    "tags": []
   },
   "source": [
    "### 크롤링 실습 5\n",
    "   + 크롤링 대상 : www.kyobobook.co.kr\n",
    "   + 교보문고 쇼핑몰 사이트에서 '**베스트**' 페이지에서\n",
    "   + '**도서제목, 저자, 출판사, 출판일, 가격**'들을 수집하세요\n",
    "       * 파일에 저장 : kyobobest.csv\n"
   ]
  },
  {
   "cell_type": "code",
   "execution_count": 2,
   "id": "ee2db1f1-ceee-41dd-9ae0-3d2d9a65759a",
   "metadata": {},
   "outputs": [],
   "source": [
    "import requests\n",
    "from lxml import html"
   ]
  },
  {
   "cell_type": "code",
   "execution_count": 3,
   "id": "096f530f-d174-4812-90fe-b8aa08d4533b",
   "metadata": {},
   "outputs": [],
   "source": [
    "url = 'https://product.kyobobook.co.kr/bestseller/online?period=001'\n",
    "header = {'https://product.kyobobook.co.kr/api/gw/pub/pdt/best-seller/online?page=1&per=20&period=001&dsplDvsnCode=000&dsplTrgtDvsnCode=001'}"
   ]
  },
  {
   "cell_type": "code",
   "execution_count": null,
   "id": "a8f13d38-92b2-42c8-8a11-b84e4bb1d654",
   "metadata": {},
   "outputs": [],
   "source": [
    "books = []\n",
    "titles,writers,pubs,prices = [],[],[],[]\n",
    "\n",
    "for i in range(1,2+1):\n",
    "    # 질의문자열을 위해 params 변수 정의\n",
    "    param = {'page': i}\n",
    "    # http header와 질의문자열을 이용해서 requests 모듈 호출\n",
    "    res = requests.get(url, headers=header, params=param)\n",
    "    doctree = html.fromstring(res.text)\n",
    "\n",
    "    docs = doctree.cssselect('span.prod_name')\n",
    "    for title in docs:\n",
    "        titles.append(title.text_content())\n",
    "    docs = doctree.cssselect('span.prod_author').split('·')\n",
    "    for writer in docs[0]:\n",
    "        writers.append(writer.text_content())\n",
    "    docs = doctree.cssselect('span.prod_author').split('·')\n",
    "    for pub in docs[1]:\n",
    "        pubs.append(pub.text_content())\n",
    "    docs = doctree.cssselect('span.val') \n",
    "    for price in docs:\n",
    "        prices.append(price.text_content().replace(',',''))\n",
    "time.sleep(2)  # 2초동안 잠시 대기 \n",
    "print(books)"
   ]
  },
  {
   "cell_type": "markdown",
   "id": "6a8a760b-8d8c-4066-b191-2a3dccf08bfe",
   "metadata": {},
   "source": [
    "## REST API 형식으로 베스트셀러 도서 정보 추출"
   ]
  },
  {
   "cell_type": "code",
   "execution_count": 7,
   "id": "878a040d-87cb-4abd-b0ca-b9b40a1cfdd5",
   "metadata": {},
   "outputs": [],
   "source": [
    "url = 'https://product.kyobobook.co.kr/api/gw/pub/pdt/best-seller/online?page=1&per=20&period=001&dsplDvsnCode=000&dsplTrgtDvsnCode=001'"
   ]
  },
  {
   "cell_type": "code",
   "execution_count": 8,
   "id": "cfa6c711-2bc1-425e-bb01-cb64b0964d57",
   "metadata": {},
   "outputs": [],
   "source": [
    "res = requests.get(url, headers=header)"
   ]
  },
  {
   "cell_type": "code",
   "execution_count": null,
   "id": "b1ca74a9-f056-41e3-b653-bfb1f30685f5",
   "metadata": {},
   "outputs": [],
   "source": [
    "res.text"
   ]
  },
  {
   "cell_type": "code",
   "execution_count": null,
   "id": "81a077f8-29be-4c15-acbf-aebe8e1d0491",
   "metadata": {},
   "outputs": [],
   "source": []
  }
 ],
 "metadata": {
  "kernelspec": {
   "display_name": "Python 3 (ipykernel)",
   "language": "python",
   "name": "python3"
  },
  "language_info": {
   "codemirror_mode": {
    "name": "ipython",
    "version": 3
   },
   "file_extension": ".py",
   "mimetype": "text/x-python",
   "name": "python",
   "nbconvert_exporter": "python",
   "pygments_lexer": "ipython3",
   "version": "3.9.13"
  }
 },
 "nbformat": 4,
 "nbformat_minor": 5
}
