{
 "cells": [
  {
   "cell_type": "markdown",
   "id": "2a3bdf7e-c3d6-4a9e-8e00-887b94d9214b",
   "metadata": {},
   "source": [
    "# BeautifulSoup\n",
    "+ www.crummy.com/software/BeautifulSoup\n",
    "+ 유명한 스크래핑/크롤링 패키지\n",
    "+ 주로 HTML과 XML파일에서 데이터 추출시 사용\n",
    "+ pip install beautifulsoup4"
   ]
  },
  {
   "cell_type": "code",
   "execution_count": 1,
   "id": "58d122b8-9f32-4aff-9161-dd348dbafd8c",
   "metadata": {},
   "outputs": [
    {
     "name": "stdout",
     "output_type": "stream",
     "text": [
      "Collecting beautifulsoup4\n",
      "  Using cached beautifulsoup4-4.11.1-py3-none-any.whl (128 kB)\n",
      "Collecting soupsieve>1.2\n",
      "  Using cached soupsieve-2.3.2.post1-py3-none-any.whl (37 kB)\n",
      "Installing collected packages: soupsieve, beautifulsoup4\n",
      "Successfully installed beautifulsoup4-4.11.1 soupsieve-2.3.2.post1\n",
      "Note: you may need to restart the kernel to use updated packages.\n"
     ]
    },
    {
     "name": "stderr",
     "output_type": "stream",
     "text": [
      "WARNING: You are using pip version 22.0.4; however, version 22.3 is available.\n",
      "You should consider upgrading via the 'c:\\Users\\LG PC\\Desktop\\Pro\\develop_tool\\python\\python.exe -m pip install --upgrade pip' command.\n"
     ]
    }
   ],
   "source": [
    "pip install beautifulsoup4"
   ]
  },
  {
   "cell_type": "markdown",
   "id": "f2cb4a82-fd05-4e85-92fc-1536f04abb23",
   "metadata": {},
   "source": [
    "## 크롤링 연습 6\n",
    " + 네이버 증권에서 **일본/미국/영국 환율** 크롤링 하기"
   ]
  },
  {
   "cell_type": "code",
   "execution_count": 9,
   "id": "4034e96f-159e-4c17-9b0c-9589aa6e9180",
   "metadata": {},
   "outputs": [],
   "source": [
    "import requests \n",
    "from bs4 import BeautifulSoup"
   ]
  },
  {
   "cell_type": "code",
   "execution_count": 10,
   "id": "cc8cc567-ece4-4db8-a1c4-0a1a21ac7b44",
   "metadata": {},
   "outputs": [],
   "source": [
    "url = 'https://finance.naver.com/'\n",
    "headers = {'user-agent':'Mozilla/5.0 (Windows NT 10.0; Win64; x64) AppleWebKit/537.36 (KHTML, like Gecko) Chrome/106.0.0.0 Safari/537.36'}"
   ]
  },
  {
   "cell_type": "code",
   "execution_count": 11,
   "id": "f709def1-512c-45a4-be23-c6f0fce43fc8",
   "metadata": {},
   "outputs": [],
   "source": [
    "res = requests.get(url, headers = headers)"
   ]
  },
  {
   "cell_type": "markdown",
   "id": "f916c66a-6386-45f4-84ba-0780a10e53f9",
   "metadata": {},
   "source": [
    "## bs4를 이용해서 DOM 계층구조로 변환\n",
    " + BeautifulSoup(대상, 변환방식)\n",
    " + bs4에서 제공하는 변환방식 : html.parser, lxml(추천)"
   ]
  },
  {
   "cell_type": "code",
   "execution_count": 12,
   "id": "6c721a4a-75ae-4a49-9a0f-834b4716db7a",
   "metadata": {},
   "outputs": [],
   "source": [
    "html = BeautifulSoup(res.text,'lxml')"
   ]
  },
  {
   "cell_type": "code",
   "execution_count": 13,
   "id": "87a7ebb2-6925-4a81-8db1-88823cf40ace",
   "metadata": {},
   "outputs": [
    {
     "data": {
      "text/plain": [
       "'<html lang=\"ko\">\\n<head>\\n<title>네이버 금융</title>\\n<meta content=\"text/html; charset=utf-8\" http-equiv=\"Content-Type\"/>\\n<meta content=\"text/javascript\" http-equiv=\"Content-Script-Type\"/>\\n<meta content=\"text/css\" http-equiv=\"Content-Style-Type\"/>\\n<meta content=\"네이버 금융\" name=\"apple-mobile-web-app-title\"/>\\n<meta content=\"네이버 금융\" property=\"og:title\"/>\\n<meta content=\"https://ssl.pstatic.net/static/m/stock/im/2016/08/og_stock-200.png\" property=\"og:image\"/>\\n<meta content=\"https://finance.naver.com\" property'"
      ]
     },
     "execution_count": 13,
     "metadata": {},
     "output_type": "execute_result"
    }
   ],
   "source": [
    "str(html)[:500]"
   ]
  },
  {
   "cell_type": "markdown",
   "id": "af11fde2-3ec1-4025-bde2-f29704e3bb03",
   "metadata": {},
   "source": [
    "## 변환된 문서객체 탐색\n",
    " + 요소명 : 객체명.태그명\n",
    " + 여러 요소 : 객체명.find_all('태그명')\n",
    " + 여러 요소 : 객체명.select('선택자')"
   ]
  },
  {
   "cell_type": "code",
   "execution_count": 14,
   "id": "ad27fda8-8f5c-4b74-bb23-d5bfea744399",
   "metadata": {},
   "outputs": [
    {
     "data": {
      "text/plain": [
       "<title>네이버 금융</title>"
      ]
     },
     "execution_count": 14,
     "metadata": {},
     "output_type": "execute_result"
    }
   ],
   "source": [
    "# 문서 제목 출력 1\n",
    "html.title"
   ]
  },
  {
   "cell_type": "code",
   "execution_count": 15,
   "id": "c7c0ad2e-d69b-43fe-881e-59ca49fc2f7f",
   "metadata": {},
   "outputs": [
    {
     "data": {
      "text/plain": [
       "'네이버 금융'"
      ]
     },
     "execution_count": 15,
     "metadata": {},
     "output_type": "execute_result"
    }
   ],
   "source": [
    "# 문서 제목 출력 2\n",
    "html.title.string"
   ]
  },
  {
   "cell_type": "code",
   "execution_count": 14,
   "id": "d3dc9a90-4c70-4045-8e13-6e16fe2846de",
   "metadata": {},
   "outputs": [
    {
     "data": {
      "text/plain": [
       "<p class=\"func\"> <span><a class=\"fire_event funoff\" href=\"#\" onclick=\"clickcr(this, 'AUT.x', '', '', event); smartSearch.unuse(); return false;\">기능끄기</a></span> </p>"
      ]
     },
     "execution_count": 14,
     "metadata": {},
     "output_type": "execute_result"
    }
   ],
   "source": [
    "# 문서에서 p 요소 출력\n",
    "html.p"
   ]
  },
  {
   "cell_type": "code",
   "execution_count": null,
   "id": "2d65d3d6-448e-43c6-98e9-7e45b53c963f",
   "metadata": {},
   "outputs": [],
   "source": [
    "# 문서에서 p 요소 출력(첫번째 p 요소 출력)\n",
    "html.find_all('p')[:5]"
   ]
  },
  {
   "cell_type": "code",
   "execution_count": null,
   "id": "7547561e-78f6-40eb-add3-5d3834315081",
   "metadata": {},
   "outputs": [],
   "source": [
    "# 문서에서 p 요소 출력\n",
    "html.select('p')[:5]"
   ]
  },
  {
   "cell_type": "code",
   "execution_count": 20,
   "id": "22df0eaa-f0cf-4f67-a4a9-f64e4901cd7c",
   "metadata": {},
   "outputs": [
    {
     "data": {
      "text/plain": [
       "'네이버 금융'"
      ]
     },
     "execution_count": 20,
     "metadata": {},
     "output_type": "execute_result"
    }
   ],
   "source": [
    "# 문서에서 p 요소 출력 3\n",
    "# html.select('title')[0].string\n",
    "html.select('title')[0].text"
   ]
  },
  {
   "cell_type": "markdown",
   "id": "d66e0289-f710-4141-8389-ade1e1102df2",
   "metadata": {},
   "source": [
    "## 환율정보 추출"
   ]
  },
  {
   "cell_type": "code",
   "execution_count": 17,
   "id": "0b08e104-b160-48f6-9cae-79eaec8e3625",
   "metadata": {},
   "outputs": [],
   "source": [
    "country = html.select('div.group1 table.tbl_home tbody tr th a')\n",
    "rate = html.select('div.group1 table.tbl_home tbody tr td')\n"
   ]
  },
  {
   "cell_type": "code",
   "execution_count": 18,
   "id": "d5252b5d-860d-4159-b334-7994877fbe74",
   "metadata": {},
   "outputs": [
    {
     "data": {
      "text/plain": [
       "('미국USD', '1,425.50', '일본JPY (100엔)', '964.97', '유럽연합EUR', '1,421.37')"
      ]
     },
     "execution_count": 18,
     "metadata": {},
     "output_type": "execute_result"
    }
   ],
   "source": [
    "country[0].text, rate[0].text,country[1].text, rate[2].text,country[2].text, rate[4].text"
   ]
  }
 ],
 "metadata": {
  "kernelspec": {
   "display_name": "Python 3.9.13 64-bit",
   "language": "python",
   "name": "python3"
  },
  "language_info": {
   "codemirror_mode": {
    "name": "ipython",
    "version": 3
   },
   "file_extension": ".py",
   "mimetype": "text/x-python",
   "name": "python",
   "nbconvert_exporter": "python",
   "pygments_lexer": "ipython3",
   "version": "3.9.13"
  },
  "vscode": {
   "interpreter": {
    "hash": "3ed665000513fafed223c4a9ba808b59f1db4eb939372fd67dd56667510ebfbc"
   }
  }
 },
 "nbformat": 4,
 "nbformat_minor": 5
}
