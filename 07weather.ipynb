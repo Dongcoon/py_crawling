{
 "cells": [
  {
   "cell_type": "markdown",
   "id": "012f1da3-251a-4cfb-b386-ebf02f3fcde6",
   "metadata": {},
   "source": [
    "# 기상청을 이용한 날씨 정보 출력\n",
    "+ weather.go.kr\n",
    "+ https://www.weather.go.kr/w/pop/rss-guide.do\n",
    "+ 지역을 입력하면 날씨를 출력"
   ]
  },
  {
   "cell_type": "markdown",
   "id": "9f997f8e-c49a-4c33-a720-b4cc83178a07",
   "metadata": {
    "tags": []
   },
   "source": [
    "### RSS 서비스 이용하기\n",
    "+ Really Simple Syndication, Rich Site Summary\n",
    "+ 블로그처럼 컨텐츠 업데이트가 자주 일어나는 웹사이트에서,\n",
    "  업데이트된 정보를 쉽게 구독자들에게 제공하기 위해 \n",
    "  XML을 기초로 만들어진 데이터 형식\n",
    "+ RSS서비스를 이용하면 업데이트된 정보를 찾기 위해 \n",
    "  홈페이지에 일일이 방문하지 않아도\n",
    "  업데이트될 때마다 빠르고 편리하게 확인할 수 있음"
   ]
  },
  {
   "cell_type": "code",
   "execution_count": 1,
   "id": "2f2bffaf-0aee-4a34-be6a-cdb91f3bb70c",
   "metadata": {},
   "outputs": [],
   "source": [
    "import requests\n",
    "from bs4 import BeautifulSoup"
   ]
  },
  {
   "cell_type": "code",
   "execution_count": 5,
   "id": "4b31306f-240e-4212-ad97-1d6e20dfb77a",
   "metadata": {},
   "outputs": [],
   "source": [
    "# 동네예보 > 중기예보 > 서울,경기\n",
    "url = 'http://www.kma.go.kr/weather/forecast/mid-term-rss3.jsp?stnId=109'\n",
    "headers = {'user-agent':'Mozilla/5.0 (Windows NT 10.0; Win64; x64) AppleWebKit/537.36 (KHTML, like Gecko) Chrome/106.0.0.0 Safari/537.36'}"
   ]
  },
  {
   "cell_type": "code",
   "execution_count": 6,
   "id": "dfe2d86d-a8a9-4a70-9201-fc6436ed2abd",
   "metadata": {},
   "outputs": [],
   "source": [
    "res = requests.get(url, headers = headers)\n",
    "html = BeautifulSoup(res.text, 'html.parser')"
   ]
  },
  {
   "cell_type": "code",
   "execution_count": 7,
   "id": "09819043-2c77-461e-a4a5-f25d9ac67936",
   "metadata": {},
   "outputs": [
    {
     "data": {
      "text/plain": [
       "'<?xml version=\"1.0\" encoding=\"utf-8\" ?>\\n<rss version=\"2.0\">\\n<channel>\\n<title>기상청 육상 중기예보</title>\\n<link/>http://www.kma.go.kr/weather/forecast/mid-term_02.jsp\\r\\n<description>기상청 날씨 웹서비스</description>\\n<language>ko</language>\\n<generator>기상청</generator>\\n<pubdate>2022년 10월 30일 (일)요일 06:00</pubdate>\\n<item>\\n<author>기상청</author>\\n<category>육상중기예보</category>\\n<title>서울,경기도 육상 중기예보 - 2022년 10월 30일 (일)요일 06:00 발표</title>\\n<link/>http://www.kma.go.kr/weather/forecast/mid-term_02.jsp\\r\\n<guid>http://www.kma.go.kr/'"
      ]
     },
     "execution_count": 7,
     "metadata": {},
     "output_type": "execute_result"
    }
   ],
   "source": [
    "str(html)[:500]"
   ]
  },
  {
   "cell_type": "markdown",
   "id": "2aba0108-460f-446c-a2fc-6c4aec47f142",
   "metadata": {},
   "source": [
    "## 서울 지역 날씨 정보 출력"
   ]
  },
  {
   "cell_type": "code",
   "execution_count": 8,
   "id": "1d831f5d-b5c2-44fb-b293-02c9df7b8364",
   "metadata": {},
   "outputs": [],
   "source": [
    "region = '서울'\n",
    "whter = None\n",
    "\n",
    "for loc in html.select('location'):\n",
    "    if loc.city.text == region:\n",
    "        whter = loc.data"
   ]
  },
  {
   "cell_type": "code",
   "execution_count": 9,
   "id": "89039264-dc2d-4973-9053-eaeeebbb1f2b",
   "metadata": {},
   "outputs": [
    {
     "data": {
      "text/plain": [
       "<data>\n",
       "<mode>A02</mode>\n",
       "<tmef>2022-11-02 00:00</tmef>\n",
       "<wf>맑음</wf>\n",
       "<tmn>7</tmn>\n",
       "<tmx>17</tmx>\n",
       "<reliability></reliability>\n",
       "<rnst>0</rnst>\n",
       "</data>"
      ]
     },
     "execution_count": 9,
     "metadata": {},
     "output_type": "execute_result"
    }
   ],
   "source": [
    "whter"
   ]
  },
  {
   "cell_type": "code",
   "execution_count": 10,
   "id": "2e201334-e56f-4d2e-b32d-70d4c74e01c1",
   "metadata": {},
   "outputs": [
    {
     "data": {
      "text/plain": [
       "('2022-11-02 00:00', '맑음', '7', '17', '0')"
      ]
     },
     "execution_count": 10,
     "metadata": {},
     "output_type": "execute_result"
    }
   ],
   "source": [
    "whter.tmef.text, whter.wf.text, whter.tmn.text, whter.tmx.text, whter.rnst.text "
   ]
  },
  {
   "cell_type": "markdown",
   "id": "d556bf67-8c38-4104-905c-9d926000ad7c",
   "metadata": {},
   "source": [
    "## 동네예보 > 시간별 예보\n",
    " + http://www.kma.go.kr/wid/queryDFSRSS.jsp?zone=1144070000\n",
    " + day : 0(오늘),1(내일), 2(모레)"
   ]
  },
  {
   "cell_type": "code",
   "execution_count": 11,
   "id": "23f049f1-b6a8-4ffd-a005-c2452a3dd3eb",
   "metadata": {},
   "outputs": [],
   "source": [
    "# 동네예보 > 시간별 예보\n",
    "url = 'http://www.kma.go.kr/wid/queryDFSRSS.jsp?zone=1144070000'\n",
    "headers = {'user-agent':'Mozilla/5.0 (Windows NT 10.0; Win64; x64) AppleWebKit/537.36 (KHTML, like Gecko) Chrome/106.0.0.0 Safari/537.36'}"
   ]
  },
  {
   "cell_type": "code",
   "execution_count": 12,
   "id": "5ee5d41c-1128-4e77-a23e-5d6040481146",
   "metadata": {},
   "outputs": [],
   "source": [
    "res = requests.get(url, headers = headers)\n",
    "html = BeautifulSoup(res.text, 'html.parser')"
   ]
  },
  {
   "cell_type": "code",
   "execution_count": 13,
   "id": "babd968f-5643-4de5-8dab-5503e449ef6e",
   "metadata": {},
   "outputs": [
    {
     "name": "stdout",
     "output_type": "stream",
     "text": [
      "[['0', '0', '1', '1', '1', '1', '1', '1', '1', '1', '2', '2', '2', '2', '2', '2', '2', '2'], ['14.0', '13.0', '13.0', '12.0', '14.0', '18.0', '18.0', '16.0', '14.0', '12.0', '12.0', '11.0', '13.0', '17.0', '18.0', '15.0', '12.0', '10.0'], ['-999.0', '-999.0', '19.0', '19.0', '19.0', '19.0', '19.0', '19.0', '19.0', '19.0', '18.0', '18.0', '18.0', '18.0', '18.0', '18.0', '18.0', '18.0'], ['-999.0', '-999.0', '11.0', '11.0', '11.0', '11.0', '11.0', '11.0', '11.0', '11.0', '10.0', '10.0', '10.0', '10.0', '10.0', '10.0', '10.0', '10.0'], ['구름 많음', '구름 많음', '구름 많음', '구름 많음', '구름 많음', '흐림', '흐림', '구름 많음', '맑음', '맑음', '구름 많음', '흐림', '흐림', '흐림', '구름 많음', '맑음', '맑음', '맑음']]\n"
     ]
    }
   ],
   "source": [
    "day,temp = [],[]\n",
    "tmx,tmn,wfkor = [],[],[]\n",
    "\n",
    "mangwon2 = [day,temp,tmx,tmn,wfkor]\n",
    "\n",
    "for i in range(len(html.select('data'))):\n",
    "    day.append(html.select('data day')[i].text)\n",
    "    temp.append(html.select('data temp')[i].text)\n",
    "    tmx.append(html.select('data tmx')[i].text)\n",
    "    tmn.append(html.select('data tmn')[i].text)\n",
    "    wfkor.append(html.select('data wfkor')[i].text)\n",
    "print(mangwon2)\n",
    "               "
   ]
  },
  {
   "cell_type": "code",
   "execution_count": 14,
   "id": "9cbe7908-ea49-4c00-8d1d-dfbb18370f42",
   "metadata": {},
   "outputs": [],
   "source": [
    "# 현재시간 기준 다음날 9시의 날씨 정보 조회\n",
    "whter = None\n",
    "for data in html.select('data'):\n",
    "    if data.day.text =='1' and data.hour.text == '9':\n",
    "        whter = data\n",
    "        break"
   ]
  },
  {
   "cell_type": "code",
   "execution_count": 15,
   "id": "7f2ec30f-15ca-461d-b597-ffc7aa035527",
   "metadata": {},
   "outputs": [
    {
     "data": {
      "text/plain": [
       "('구름 많음', '11.0', '19.0', '20', '70')"
      ]
     },
     "execution_count": 15,
     "metadata": {},
     "output_type": "execute_result"
    }
   ],
   "source": [
    "whter.wfkor.text, whter.tmn.text, whter.tmx.text, whter.pop.text, whter.reh.text"
   ]
  },
  {
   "cell_type": "code",
   "execution_count": null,
   "id": "d1278590-f50e-4097-b5ee-23c203551f12",
   "metadata": {},
   "outputs": [],
   "source": []
  }
 ],
 "metadata": {
  "kernelspec": {
   "display_name": "Python 3.9.13 64-bit",
   "language": "python",
   "name": "python3"
  },
  "language_info": {
   "codemirror_mode": {
    "name": "ipython",
    "version": 3
   },
   "file_extension": ".py",
   "mimetype": "text/x-python",
   "name": "python",
   "nbconvert_exporter": "python",
   "pygments_lexer": "ipython3",
   "version": "3.9.13"
  },
  "vscode": {
   "interpreter": {
    "hash": "3ed665000513fafed223c4a9ba808b59f1db4eb939372fd67dd56667510ebfbc"
   }
  }
 },
 "nbformat": 4,
 "nbformat_minor": 5
}
