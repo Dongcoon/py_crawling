{
 "cells": [
  {
   "cell_type": "markdown",
   "id": "6a08678d-3963-4855-81b5-4deed48bd140",
   "metadata": {},
   "source": [
    "# 코로나19 시·도발생 현황\n",
    "+ 지역별 코로나 확진자 수 조회\n",
    "+ 지역을 입력하면 코로나 확진자 수 정보 출력\n",
    "+ 시도명GUBUN, 전일대비 증감수INC_DEC, 총확진자수DEF_CNT, 등록일시분초CREATE_DT"
   ]
  },
  {
   "cell_type": "code",
   "execution_count": 9,
   "id": "3900f41d-95ea-4a90-b679-2c1b6c3e68fa",
   "metadata": {},
   "outputs": [],
   "source": [
    "import requests\n",
    "from bs4 import BeautifulSoup"
   ]
  },
  {
   "cell_type": "code",
   "execution_count": 5,
   "id": "41ead58c-938d-44df-8c87-05f14983f6ef",
   "metadata": {},
   "outputs": [],
   "source": [
    "url = 'http://openapi.data.go.kr/openapi/service/rest/Covid19/getCovid19SidoInfStateJson?serviceKey=GjgjTYLP10LmklhSDVDE6qQ8KZPc43DI%2BJ0iaotwuQpc5cFzNY19Uo269sO%2F5MQJ%2BGT6AmPGbn3prlagN3nf7A%3D%3D&pageNo=1&numOfRows=100&startCreateDt=20220101'"
   ]
  },
  {
   "cell_type": "code",
   "execution_count": null,
   "id": "0b269415-0356-4d07-a581-cc12aa2bbc58",
   "metadata": {},
   "outputs": [],
   "source": [
    "res = requests.get(url)\n",
    "res.text[:500]"
   ]
  },
  {
   "cell_type": "markdown",
   "id": "5b0bb5ef-3a10-4efb-a9da-4c13ad861658",
   "metadata": {},
   "source": [
    "# 코로나 19_2"
   ]
  },
  {
   "cell_type": "code",
   "execution_count": 14,
   "id": "78e26bdb-77a7-4bee-b9ea-7f8d55c61ecf",
   "metadata": {},
   "outputs": [],
   "source": [
    "url = 'http://apis.data.go.kr/1352000/ODMS_COVID_04/callCovid04Api?serviceKey=GjgjTYLP10LmklhSDVDE6qQ8KZPc43DI%2BJ0iaotwuQpc5cFzNY19Uo269sO%2F5MQJ%2BGT6AmPGbn3prlagN3nf7A%3D%3D&pageNo=1&numOfRows=500&apiType=xml&std_day=2022-01-01&gubun=서울'"
   ]
  },
  {
   "cell_type": "code",
   "execution_count": 16,
   "id": "8296f667-37db-474e-b6c4-5276e5343a30",
   "metadata": {},
   "outputs": [
    {
     "data": {
      "text/plain": [
       "'<?xml version=\"1.0\" encoding=\"UTF-8\"?>\\r\\n<response>\\r\\n <header>\\r\\n  <resultCode>00</resultCode>\\r\\n  <resultMsg>NORMAL SERVICE</resultMsg>\\r\\n </header>\\r\\n <body>\\r\\n  <items>\\r\\n   <item>\\r\\n    <deathCnt>1813</deathCnt>\\r\\n    <defCnt>226698</defCnt>\\r\\n    <gubun>서울</gubun>\\r\\n    <gubunCn>首尔</gubunCn>\\r\\n    <gubunEn>Seoul</gubunEn>\\r\\n    <incDec>1464</incDec>\\r\\n    <isolClearCnt>177348</isolClearCnt>\\r\\n    <isolIngCnt>0</isolIngCnt>\\r\\n    <localOccCnt>1429</localOccCnt>\\r\\n    <overFlowCnt>35</overFlowCnt>\\r\\n    <qurRate>2345</qurRate>\\r\\n    <stdDay>2022-01-01</stdDay>\\r\\n   </item>\\r\\n  </items>\\r\\n  <numOfRows>500</numOfRows>\\r\\n  <pageNo>1</pageNo>\\r\\n  <totalCount>19665</totalCount>\\r\\n </body>\\r\\n</response>\\r\\n\\r\\n'"
      ]
     },
     "execution_count": 16,
     "metadata": {},
     "output_type": "execute_result"
    }
   ],
   "source": [
    "res = requests.get(url)\n",
    "res.text"
   ]
  },
  {
   "cell_type": "markdown",
   "id": "b87c81ee-db20-4c37-8f1a-9aea97d991cb",
   "metadata": {},
   "source": [
    "## 보건복지부_코로나19 시도 발생현황 "
   ]
  },
  {
   "cell_type": "code",
   "execution_count": 19,
   "id": "a1ba571f-e6b9-4a06-95e1-4f9d20a79f90",
   "metadata": {},
   "outputs": [],
   "source": [
    "url = 'http://apis.data.go.kr/1352000/ODMS_COVID_04/callCovid04Api?serviceKey=GjgjTYLP10LmklhSDVDE6qQ8KZPc43DI%2BJ0iaotwuQpc5cFzNY19Uo269sO%2F5MQJ%2BGT6AmPGbn3prlagN3nf7A%3D%3D&pageNo=1&numOfRows=500&apiType=xml&std_day=2022-01-01&gubun=서울'"
   ]
  },
  {
   "cell_type": "code",
   "execution_count": null,
   "id": "eca7f0b4-1bec-47ea-bcac-2557112748d3",
   "metadata": {},
   "outputs": [],
   "source": [
    "res = requests.get(url)\n",
    "res.text"
   ]
  },
  {
   "cell_type": "markdown",
   "id": "289c5f6d-6419-4acc-b320-32d5c210ce7b",
   "metadata": {},
   "source": [
    "## 공공데이터활용지원센터_코로나19 예방접종 위탁의료기관 조회서비스"
   ]
  },
  {
   "cell_type": "code",
   "execution_count": 46,
   "id": "ce3bd0ae-dbb9-414c-b871-4f0a03337e7f",
   "metadata": {},
   "outputs": [],
   "source": [
    "url = 'https://api.odcloud.kr/api/apnmOrg/v1/list?page=1&perPage=10&returnType=JSON&cond%5BorgZipaddr%3A%3ALIKE%5D=마포구&serviceKey=GjgjTYLP10LmklhSDVDE6qQ8KZPc43DI%2BJ0iaotwuQpc5cFzNY19Uo269sO%2F5MQJ%2BGT6AmPGbn3prlagN3nf7A%3D%3D'"
   ]
  },
  {
   "cell_type": "code",
   "execution_count": null,
   "id": "dde492a0-d931-410a-9556-dc335abfaeb4",
   "metadata": {},
   "outputs": [],
   "source": [
    "res = requests.get(url)\n",
    "html = BeautifulSoup(res.text,'lxml')\n",
    "html.text"
   ]
  },
  {
   "cell_type": "code",
   "execution_count": null,
   "id": "062b6e35-7c5d-4231-864d-6f22945d48dd",
   "metadata": {},
   "outputs": [],
   "source": []
  },
  {
   "cell_type": "markdown",
   "id": "3df7b845-be27-4d20-960f-947e95cf1630",
   "metadata": {},
   "source": [
    "## 공공데이터활용지원센터_코로나19 예방접종 위탁의료기관 조회서비스"
   ]
  },
  {
   "cell_type": "code",
   "execution_count": 53,
   "id": "5b794214-8186-4ad5-8e34-d26d3079aae3",
   "metadata": {},
   "outputs": [],
   "source": [
    "url = 'https://api.odcloud.kr/api/apnmOrg/v1/list?page=1&perPage=10&cond%5BorgZipaddr%3A%3ALIKE%5D=%EB%A7%88%ED%8F%AC%EA%B5%AC'\n",
    "headers = {'accept': 'application/json','Authorization': 'Infuser GjgjTYLP10LmklhSDVDE6qQ8KZPc43DI+J0iaotwuQpc5cFzNY19Uo269sO/5MQJ+GT6AmPGbn3prlagN3nf7A=='}"
   ]
  },
  {
   "cell_type": "code",
   "execution_count": null,
   "id": "0270bde5-2482-4bf4-9de1-0bdb90d92b9e",
   "metadata": {},
   "outputs": [],
   "source": [
    "res = requests.get(url, headers=headers)\n",
    "res.text"
   ]
  },
  {
   "cell_type": "code",
   "execution_count": null,
   "id": "33352e2c-50c9-4008-bd11-1fcbbbb94d80",
   "metadata": {},
   "outputs": [],
   "source": []
  }
 ],
 "metadata": {
  "kernelspec": {
   "display_name": "Python 3 (ipykernel)",
   "language": "python",
   "name": "python3"
  },
  "language_info": {
   "codemirror_mode": {
    "name": "ipython",
    "version": 3
   },
   "file_extension": ".py",
   "mimetype": "text/x-python",
   "name": "python",
   "nbconvert_exporter": "python",
   "pygments_lexer": "ipython3",
   "version": "3.9.13"
  }
 },
 "nbformat": 4,
 "nbformat_minor": 5
}
