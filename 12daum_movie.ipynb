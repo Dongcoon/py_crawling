{
 "cells": [
  {
   "cell_type": "markdown",
   "id": "fd560dbb-adc2-411c-b460-3fc5b170e1bb",
   "metadata": {},
   "source": [
    "### 크롤링 실습 \n",
    "   + 크롤링 대상 : https://movie.daum.net/main\n",
    "   + 다음 영화 사이트에서 '**영화명, 평점, 예매율**'들을 수집하세요\n",
    "       * 파일에 저장 : movies.csv\n"
   ]
  },
  {
   "cell_type": "markdown",
   "id": "8b2ca940-7bab-47b7-bc4f-e814dde9d63d",
   "metadata": {},
   "source": [
    "## selenium"
   ]
  },
  {
   "cell_type": "code",
   "execution_count": 72,
   "id": "6d4d1d5b-ba3c-4889-b24b-573332566e96",
   "metadata": {},
   "outputs": [],
   "source": [
    "import time\n",
    "from bs4 import BeautifulSoup\n",
    "\n",
    "from selenium.webdriver.chrome.service import Service\n",
    "from webdriver_manager.chrome import ChromeDriverManager\n",
    "from selenium import webdriver"
   ]
  },
  {
   "cell_type": "code",
   "execution_count": 73,
   "id": "3494fae3-f576-4373-817b-1bdd7d8c6627",
   "metadata": {},
   "outputs": [],
   "source": [
    "url = 'https://movie.daum.net/main'"
   ]
  },
  {
   "cell_type": "code",
   "execution_count": 74,
   "id": "4e15daa5-7e8a-4f3a-b9cf-fc4688a982d0",
   "metadata": {},
   "outputs": [],
   "source": [
    "options = webdriver.ChromeOptions()\n",
    "services = Service(ChromeDriverManager().install())  # 드라이버 자동설치\n",
    "chrome = webdriver.Chrome(service=services, options=options)"
   ]
  },
  {
   "cell_type": "code",
   "execution_count": 75,
   "id": "7e258bfe-5acb-4162-b697-cf98a311a0b4",
   "metadata": {},
   "outputs": [],
   "source": [
    "# 웹페이지 요소들이 다 로딩될때까지의 대기시간 설정\n",
    "chrome.implicitly_wait(5)  \n",
    "chrome.get(url)\n",
    "html = BeautifulSoup(chrome.page_source,'lxml')\n",
    "chrome.close()"
   ]
  },
  {
   "cell_type": "markdown",
   "id": "f4edc7b9-8738-4094-a5b8-6af4b7cc9c4d",
   "metadata": {},
   "source": [
    "### 영화 정보 추출하기"
   ]
  },
  {
   "cell_type": "code",
   "execution_count": 104,
   "id": "3488843e-fd69-4801-9077-a479da15a667",
   "metadata": {},
   "outputs": [],
   "source": [
    "titles,scores,rsvs = [],[],[]"
   ]
  },
  {
   "cell_type": "code",
   "execution_count": 105,
   "id": "67cc889a-6749-4177-8133-a84de08f90b0",
   "metadata": {},
   "outputs": [],
   "source": [
    "for title in html.select('section.feature_home strong.tit_item a.link_txt'):\n",
    "    title = title.text.replace(',','.')\n",
    "    titles.append(title)"
   ]
  },
  {
   "cell_type": "code",
   "execution_count": 106,
   "id": "3b573e06-554a-4398-95e7-f87f53b71ab3",
   "metadata": {},
   "outputs": [],
   "source": [
    "for sc in html.select('span.txt_append span.txt_num:nth-child(1)'):\n",
    "    sc = sc.text.strip()\n",
    "    scores.append(sc)"
   ]
  },
  {
   "cell_type": "code",
   "execution_count": 107,
   "id": "b6256990-4e3f-45a7-9419-1cfd100fe44d",
   "metadata": {},
   "outputs": [],
   "source": [
    "for rs in html.select('span.txt_append span.txt_num:nth-child(3)'):\n",
    "    rs = rs.text.strip().replace('%','')\n",
    "    rsvs.append(rs)"
   ]
  },
  {
   "cell_type": "code",
   "execution_count": 108,
   "id": "10dd25c1-bd91-4e12-bbc3-ce6068514dd1",
   "metadata": {},
   "outputs": [
    {
     "data": {
      "text/plain": [
       "(15, 15, 15)"
      ]
     },
     "execution_count": 108,
     "metadata": {},
     "output_type": "execute_result"
    }
   ],
   "source": [
    "len(titles),len(scores),len(rsvs)"
   ]
  },
  {
   "cell_type": "code",
   "execution_count": 110,
   "id": "20314ee4-a22d-46d1-91ae-9dc455921347",
   "metadata": {},
   "outputs": [],
   "source": [
    "header = '영화명,평점,예매율\\n'\n",
    "\n",
    "with open('data/movies.csv','a',encoding='utf-8') as f:\n",
    "    f.write(header)\n",
    "    for i in range(len(titles)):\n",
    "        title, scr, rsv = titles[i], scores[i], rsvs[i] \n",
    "        f.write(f' \"{title}\",\"{scr}\",\"{rsv}\"\\n ')"
   ]
  },
  {
   "cell_type": "code",
   "execution_count": null,
   "id": "c92b2c61-6714-4880-b8bc-76f1ebd59e3b",
   "metadata": {},
   "outputs": [],
   "source": []
  }
 ],
 "metadata": {
  "kernelspec": {
   "display_name": "Python 3 (ipykernel)",
   "language": "python",
   "name": "python3"
  },
  "language_info": {
   "codemirror_mode": {
    "name": "ipython",
    "version": 3
   },
   "file_extension": ".py",
   "mimetype": "text/x-python",
   "name": "python",
   "nbconvert_exporter": "python",
   "pygments_lexer": "ipython3",
   "version": "3.9.13"
  }
 },
 "nbformat": 4,
 "nbformat_minor": 5
}
