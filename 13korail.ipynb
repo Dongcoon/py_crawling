{
 "cells": [
  {
   "cell_type": "markdown",
   "id": "0b98db14-40de-425a-9263-725e9429cefc",
   "metadata": {
    "tags": []
   },
   "source": [
    "# selenium으로 코레일에 로그인한 후 열차 예매하기"
   ]
  },
  {
   "cell_type": "code",
   "execution_count": 134,
   "id": "228c7eff-d2b7-4d09-b6a2-3396cdded898",
   "metadata": {},
   "outputs": [],
   "source": [
    "import time\n",
    "\n",
    "from selenium.webdriver.chrome.service import Service\n",
    "from webdriver_manager.chrome import ChromeDriverManager\n",
    "from selenium import webdriver\n",
    "from selenium.webdriver.support.select import Select\n",
    "from selenium.webdriver.common.by import By"
   ]
  },
  {
   "cell_type": "code",
   "execution_count": 135,
   "id": "810ce979-aafb-47d5-8329-2ed12ffe29be",
   "metadata": {},
   "outputs": [],
   "source": [
    "options = webdriver.ChromeOptions()\n",
    "services = Service(ChromeDriverManager().install())  # 드라이버 자동설치\n",
    "chrome = webdriver.Chrome(service=services, options=options)"
   ]
  },
  {
   "cell_type": "code",
   "execution_count": 136,
   "id": "21a5f19a-4065-4b8f-a78d-ac00f0e31c46",
   "metadata": {},
   "outputs": [],
   "source": [
    "userid = '1370335512'\n",
    "passwd = '1q2w3e!@#'\n",
    "deptst = '서울'\n",
    "arrvst = '목포'\n",
    "dpyear = '2022'\n",
    "dpmonth = '11'\n",
    "dpday = '11'\n",
    "dphour = '10 (오전10)'"
   ]
  },
  {
   "cell_type": "markdown",
   "id": "4b01eca8-3e54-447d-9ba1-5f6773ae3bee",
   "metadata": {
    "tags": []
   },
   "source": [
    "# 코레일 메인 페이지 방문"
   ]
  },
  {
   "cell_type": "code",
   "execution_count": 137,
   "id": "104808b1-73fd-42c8-9674-ad977b1a9ef3",
   "metadata": {},
   "outputs": [],
   "source": [
    "url = 'https://www.letskorail.com/ebizprd/prdMain.do'\n",
    "\n",
    "chrome.get(url)\n",
    "\n",
    "chrome.maximize_window() # 창 최대로 키우기\n",
    "time.sleep(3)"
   ]
  },
  {
   "cell_type": "code",
   "execution_count": 138,
   "id": "42e37cb0-44db-4d3d-b28b-8bda06b8428a",
   "metadata": {},
   "outputs": [],
   "source": [
    "# 팝업창 닫기 : 자식창으로 제어를 넘긴 후 창을 닫음\n",
    "chrome.switch_to.window(chrome.window_handles[1])\n",
    "chrome.close()\n",
    "time.sleep(3)"
   ]
  },
  {
   "cell_type": "code",
   "execution_count": 139,
   "id": "2555597a-4ad3-41d8-9d60-a099d9c6422b",
   "metadata": {},
   "outputs": [],
   "source": [
    "# 부모창으로 제어 이동\n",
    "chrome.switch_to.window(chrome.window_handles[0])\n",
    "time.sleep(1)"
   ]
  },
  {
   "cell_type": "markdown",
   "id": "270ec28e-e74c-4155-91e3-9b64380a4e1e",
   "metadata": {
    "tags": []
   },
   "source": [
    "### 로그인 하기\n",
    " + selenium에서 특정요소를 css선택자로 제어하려면 **find_element**함수 사용\n",
    "     * find_element(By.선택자유형,선택자)\n",
    " + 셀레니엄에서 input 요소에 값을 입력하려면 **send_keys**함수사용"
   ]
  },
  {
   "cell_type": "code",
   "execution_count": 140,
   "id": "b63875a0-67e0-46bf-9046-b397e577e05d",
   "metadata": {},
   "outputs": [],
   "source": [
    "# 로그인 이미지 버튼 클릭\n",
    "chrome.find_element(By.CSS_SELECTOR,'.gnb_list li:nth-child(2) a').click()\n",
    "time.sleep(2)"
   ]
  },
  {
   "cell_type": "code",
   "execution_count": 141,
   "id": "587ca30b-e924-408d-b644-35a97cb52052",
   "metadata": {},
   "outputs": [],
   "source": [
    "# 아이디입력\n",
    "uid = chrome.find_element(By.ID,'txtMember')\n",
    "pwd = chrome.find_element(By.ID,'txtPwd')\n",
    "uid.send_keys(userid)\n",
    "pwd.send_keys(passwd)\n",
    "\n",
    "chrome.find_element(By.CSS_SELECTOR,'ul.login_mem li.btn_login a').click()\n",
    "\n",
    "time.sleep(3)"
   ]
  },
  {
   "cell_type": "markdown",
   "id": "c8465f9a-6f45-43cd-8d61-6efc47eebe49",
   "metadata": {},
   "source": [
    "### 열차예매 페이지로 이동"
   ]
  },
  {
   "cell_type": "code",
   "execution_count": 142,
   "id": "37238def-5935-4c59-8cf8-7e61e4b65e19",
   "metadata": {},
   "outputs": [],
   "source": [
    "# 경고창 닫기\n",
    "# chrome.switch_to.alert.acept()\n",
    "# time.sleep(1)"
   ]
  },
  {
   "cell_type": "code",
   "execution_count": 143,
   "id": "8fcd3805-3006-4692-ad45-aba17cd484a6",
   "metadata": {},
   "outputs": [],
   "source": [
    "# 팝업창 닫기 : 자식창으로 제어를 넘긴 후 창을 닫음\n",
    "chrome.switch_to.window(chrome.window_handles[1])\n",
    "chrome.close()\n",
    "\n",
    "\n",
    "time.sleep(3)"
   ]
  },
  {
   "cell_type": "code",
   "execution_count": 144,
   "id": "370b3414-c41e-4e65-8c7d-bc97876f69d2",
   "metadata": {},
   "outputs": [],
   "source": [
    "# 부모창으로 제어 이동\n",
    "chrome.switch_to.window(chrome.window_handles[0])\n",
    "time.sleep(1)"
   ]
  },
  {
   "cell_type": "code",
   "execution_count": 145,
   "id": "6493d1c7-00c4-420c-8097-9aaa1b162b1b",
   "metadata": {},
   "outputs": [],
   "source": [
    "# 승차권 메뉴 클릭\n",
    "chrome.find_element(By.CSS_SELECTOR,'.lnb_m01 a').click()\n",
    "time.sleep(1)"
   ]
  },
  {
   "cell_type": "markdown",
   "id": "f2028d7f-478f-4b84-9e60-690e6ef83255",
   "metadata": {},
   "source": [
    "### 예약할 열차 정보 설정 및조회"
   ]
  },
  {
   "cell_type": "code",
   "execution_count": 146,
   "id": "374fb92e-9100-4b3d-a85d-cce17809e23f",
   "metadata": {},
   "outputs": [],
   "source": [
    "# 종별 선택 - ktx\n",
    "chrome.find_element(By.ID,'selGoTrainRa00').click()\n",
    "time.sleep(1)"
   ]
  },
  {
   "cell_type": "code",
   "execution_count": 147,
   "id": "91644c37-8e30-41c5-afd3-af8256941ec5",
   "metadata": {},
   "outputs": [],
   "source": [
    "# 출발/도착역 선택\n",
    "start = chrome.find_element(By.ID,'start')\n",
    "start.clear()\n",
    "start.send_keys(deptst)\n",
    "\n",
    "get = chrome.find_element(By.ID,'get')\n",
    "get.clear()\n",
    "get.send_keys(arrvst)\n",
    "time.sleep(1)"
   ]
  },
  {
   "cell_type": "code",
   "execution_count": 148,
   "id": "038eafac-e7b5-4928-8441-f5cbf237d670",
   "metadata": {},
   "outputs": [],
   "source": [
    "# 출발일 설정\n",
    "syear = Select(chrome.find_element(By.ID,'s_year'))\n",
    "syear.select_by_visible_text(dpyear)\n",
    "time.sleep(1)\n",
    "\n",
    "smonth = Select(chrome.find_element(By.ID,'s_month'))\n",
    "smonth.select_by_visible_text(dpmonth)\n",
    "time.sleep(1)\n",
    "\n",
    "syear = Select(chrome.find_element(By.ID,'s_day'))\n",
    "syear.select_by_visible_text(dpday)\n",
    "time.sleep(1)\n",
    "\n",
    "syear = Select(chrome.find_element(By.ID,'s_hour'))\n",
    "syear.select_by_visible_text(dphour)\n",
    "time.sleep(1)"
   ]
  },
  {
   "cell_type": "code",
   "execution_count": 149,
   "id": "c206721f-e5c4-48ec-a0f0-6a168c7a48a4",
   "metadata": {},
   "outputs": [],
   "source": [
    "# 조회하기 클릭\n",
    "chrome.find_element(By.CSS_SELECTOR,'p.btn_inq a').click()"
   ]
  },
  {
   "cell_type": "markdown",
   "id": "466e76c1-815e-4908-b4ea-88a27753bd51",
   "metadata": {},
   "source": [
    "### 예약버튼 클릭"
   ]
  },
  {
   "cell_type": "markdown",
   "id": "ee644e05-0417-47be-861e-6defd503a9fd",
   "metadata": {},
   "source": [
    "### 예약버튼\n",
    " + 브라우져의 특정액션은 자바스크립트를 이용해서 처리\n",
    " + selenium에서 자바스크립트를 실행하려면 **excute_script**함수 사용"
   ]
  },
  {
   "cell_type": "code",
   "execution_count": 150,
   "id": "42486b53-99a2-4350-be5c-f205ac59daa4",
   "metadata": {},
   "outputs": [],
   "source": [
    "# 조회화면 스크롤\n",
    "chrome.execute_script('window.scrollTo(0,1080);')\n",
    "time.sleep(1)"
   ]
  },
  {
   "cell_type": "code",
   "execution_count": 151,
   "id": "42eda996-339e-437d-871c-a91bfd522863",
   "metadata": {},
   "outputs": [],
   "source": [
    "# 예약버튼 클릭"
   ]
  },
  {
   "cell_type": "code",
   "execution_count": 152,
   "id": "c86c9142-87a7-4bf9-b17e-34e4db4d94ae",
   "metadata": {},
   "outputs": [],
   "source": [
    "chrome.close()"
   ]
  }
 ],
 "metadata": {
  "kernelspec": {
   "display_name": "Python 3 (ipykernel)",
   "language": "python",
   "name": "python3"
  },
  "language_info": {
   "codemirror_mode": {
    "name": "ipython",
    "version": 3
   },
   "file_extension": ".py",
   "mimetype": "text/x-python",
   "name": "python",
   "nbconvert_exporter": "python",
   "pygments_lexer": "ipython3",
   "version": "3.9.13"
  }
 },
 "nbformat": 4,
 "nbformat_minor": 5
}
