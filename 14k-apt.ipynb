{
 "cells": [
  {
   "cell_type": "markdown",
   "id": "8228641d-f2ed-4577-9688-1164ca7c62ea",
   "metadata": {},
   "source": [
    "## 아파트 단지 정보에서 주차장 정보 추출\n",
    " + 관련 사이트 : k-apt.go.kr\n",
    " + 메인페이지 팝업창 닫기 => '단지정보' 클릭\n",
    " + => 2022.06, 서울, 강남구, 삼성동, 아이파크삼성동 클릭\n"
   ]
  },
  {
   "cell_type": "code",
   "execution_count": 195,
   "id": "ba8632fc-d2af-43a2-b708-486758338840",
   "metadata": {},
   "outputs": [],
   "source": [
    "import time\n",
    "from bs4 import BeautifulSoup\n",
    "\n",
    "from selenium.webdriver.chrome.service import Service\n",
    "from webdriver_manager.chrome import ChromeDriverManager\n",
    "from selenium import webdriver\n",
    "from selenium.webdriver.support.select import Select\n",
    "from selenium.webdriver.common.by import By"
   ]
  },
  {
   "cell_type": "code",
   "execution_count": 196,
   "id": "7a71d8ee-367d-4fa7-a9e5-ad86c8478122",
   "metadata": {},
   "outputs": [],
   "source": [
    "options = webdriver.ChromeOptions()\n",
    "services = Service(ChromeDriverManager().install())  # 드라이버 자동설치\n",
    "chrome = webdriver.Chrome(service=services, options=options)"
   ]
  },
  {
   "cell_type": "code",
   "execution_count": 197,
   "id": "cf32caa3-b4ac-4667-a105-654e4dec1271",
   "metadata": {},
   "outputs": [],
   "source": [
    "url = 'http://www.k-apt.go.kr/'\n",
    "\n",
    "chrome.get(url)\n",
    "\n",
    "chrome.maximize_window() # 창 최대로 키우기\n",
    "time.sleep(3)"
   ]
  },
  {
   "cell_type": "markdown",
   "id": "d627f52d-e0cf-4b7a-9074-7b9cfa326727",
   "metadata": {},
   "source": [
    "# 팝업창 닫기"
   ]
  },
  {
   "cell_type": "code",
   "execution_count": 198,
   "id": "808ccc37-3819-4e97-8681-2bcde8eebe12",
   "metadata": {},
   "outputs": [],
   "source": [
    "# 1\n",
    "chrome.find_element(By.CSS_SELECTOR,'.fas').click()\n",
    "time.sleep(1)"
   ]
  },
  {
   "cell_type": "code",
   "execution_count": null,
   "id": "48bebcf7-564e-46f8-8ab0-89daedc7e9a5",
   "metadata": {},
   "outputs": [],
   "source": [
    "# 2 \n",
    "chrome.find_element(By.CSS_SELECTOR,'#layerPopup20211208 button').click()\n",
    "time.sleep(1)"
   ]
  },
  {
   "cell_type": "code",
   "execution_count": null,
   "id": "00c0bee3-470a-4975-a7e4-7362ee6cb3ef",
   "metadata": {},
   "outputs": [],
   "source": [
    "# 3\n",
    "chrome.execute_script('closePopupLayer(\"#layerPopup20211208\")')\n",
    "time.sleep(1)"
   ]
  },
  {
   "cell_type": "markdown",
   "id": "1c9d014f-f96e-44f0-8ab0-8ddbc8f287d0",
   "metadata": {
    "tags": []
   },
   "source": [
    "# 우리단지 기본정보로 이동"
   ]
  },
  {
   "cell_type": "code",
   "execution_count": null,
   "id": "5821471a-324a-41f5-b57f-9ce40e92913d",
   "metadata": {},
   "outputs": [],
   "source": [
    "# 우리단지 기본정보 클릭\n",
    "chrome.find_element(By.CSS_SELECTOR,'.wp220 li:nth-child(1) a').click()"
   ]
  },
  {
   "cell_type": "code",
   "execution_count": null,
   "id": "0b3a08c3-0317-4b28-bbe0-431a6cb8aad6",
   "metadata": {
    "jp-MarkdownHeadingCollapsed": true,
    "tags": []
   },
   "outputs": [],
   "source": [
    "# 1\n",
    "# 단지정보 클릭\n",
    "chrome.find_element(By.CSS_SELECTOR,'#nav li:first-child a').click()\n",
    "time.sleep(1)"
   ]
  },
  {
   "cell_type": "code",
   "execution_count": 199,
   "id": "fe51c182-2d71-4e2e-bace-32028748ca43",
   "metadata": {},
   "outputs": [],
   "source": [
    "# 2\n",
    "# //*[@id=\"nav\"]/ul/li[1]/a\n",
    "# 단지정보 클릭\n",
    "chrome.find_element(By.XPATH,'//a[@title=\"단지정보\"]').click()\n",
    "time.sleep(1)"
   ]
  },
  {
   "cell_type": "code",
   "execution_count": 200,
   "id": "5fb13cd2-5226-4ddc-8105-2ce328d24c19",
   "metadata": {},
   "outputs": [],
   "source": [
    "# 우리단지 기본정보 클릭\n",
    "chrome.find_element(By.XPATH,'//a[@title=\"우리단지 기본정보\"]').click()\n",
    "time.sleep(3)"
   ]
  },
  {
   "cell_type": "markdown",
   "id": "57f417a0-713d-4d00-a969-249e4fa329ac",
   "metadata": {},
   "source": [
    "# 검색할 단지정보 설정"
   ]
  },
  {
   "cell_type": "code",
   "execution_count": 201,
   "id": "8dd9568a-f9e9-4f77-b180-1c0d5f11f22e",
   "metadata": {},
   "outputs": [],
   "source": [
    "syear = '2022년'\n",
    "smonth = '06월'\n",
    "ssido = '서울특별시'\n",
    "sgugun = '강남구'\n",
    "sdong = '삼성동'"
   ]
  },
  {
   "cell_type": "code",
   "execution_count": 202,
   "id": "87de2894-7b73-4d9d-acdf-3982a7645bca",
   "metadata": {},
   "outputs": [],
   "source": [
    "year = Select(chrome.find_element(By.NAME,'searchYYYY'))\n",
    "year.select_by_visible_text(syear)\n",
    "time.sleep(1)"
   ]
  },
  {
   "cell_type": "code",
   "execution_count": 203,
   "id": "8dc291da-3458-4aba-baa7-f7139b5d94b5",
   "metadata": {},
   "outputs": [],
   "source": [
    "month = Select(chrome.find_element(By.NAME,'searchMM'))\n",
    "month.select_by_visible_text(smonth)\n",
    "time.sleep(1)"
   ]
  },
  {
   "cell_type": "code",
   "execution_count": 204,
   "id": "1b68bb0d-0ae6-41f8-b359-aa4a44c8aa0a",
   "metadata": {},
   "outputs": [],
   "source": [
    "sido = Select(chrome.find_element(By.NAME,'combo_SIDO'))\n",
    "sido.select_by_visible_text(ssido)\n",
    "time.sleep(1)"
   ]
  },
  {
   "cell_type": "code",
   "execution_count": 205,
   "id": "2271ae99-a788-4f6e-997c-92f64211c3b6",
   "metadata": {},
   "outputs": [],
   "source": [
    "gugun = Select(chrome.find_element(By.NAME,'combo_SGG'))\n",
    "gugun.select_by_visible_text(sgugun)\n",
    "time.sleep(2)"
   ]
  },
  {
   "cell_type": "code",
   "execution_count": 206,
   "id": "275973cc-81fd-45a1-9ccf-7a596a837998",
   "metadata": {},
   "outputs": [],
   "source": [
    "dong = Select(chrome.find_element(By.NAME,'combo_EMD'))\n",
    "dong.select_by_visible_text(sdong)\n",
    "time.sleep(2)"
   ]
  },
  {
   "cell_type": "markdown",
   "id": "1c6bc796-6798-414e-8608-0388dd8eb23b",
   "metadata": {},
   "source": [
    "# @@아파트\n",
    "chrome.execute_script('knew_createForm(\"1168010500\", \"A13509009\")')\n",
    "time.sleep(1)\n"
   ]
  },
  {
   "cell_type": "markdown",
   "id": "742af4a2-8bb8-4562-84b9-8d1054ba1a7b",
   "metadata": {},
   "source": [
    "# 아파트 목록 출력"
   ]
  },
  {
   "cell_type": "code",
   "execution_count": null,
   "id": "6b9bbd9c-adfd-4158-a4b7-e107a8c3bbbd",
   "metadata": {},
   "outputs": [],
   "source": [
    "aname = []\n",
    "html = BeautifulSoup(chrome.page_source, 'lxml')\n",
    "for name in html.select('p.aptS_rLName'):\n",
    "    name = name.text\n",
    "    name = name.replace('<p class=\"aptS_rLName\">','')\n",
    "    name = name.replace('</p>','')\n",
    "    aname.append(name)\n",
    "print(aname)"
   ]
  },
  {
   "cell_type": "code",
   "execution_count": 207,
   "id": "86c93c7c-e644-4ec8-8179-070afcc67a92",
   "metadata": {},
   "outputs": [
    {
     "name": "stdout",
     "output_type": "stream",
     "text": [
      "래미안 라클래시\n",
      "삼성동센트럴아이파크\n",
      "삼성동중앙하이츠빌리지\n",
      "삼성동힐스테이트2단지\n",
      "삼성래미안2차\n",
      "삼성롯데\n",
      "삼성롯데캐슬프레미어\n",
      "삼성서광\n",
      "삼성청구타운\n",
      "삼성풍림아파트1차\n",
      "삼성한솔\n",
      "삼성현대\n",
      "삼성홍실\n",
      "삼성힐스테이트1단지\n",
      "선릉에클라트\n",
      "아이파크삼성동\n"
     ]
    }
   ],
   "source": [
    "aname = []\n",
    "html = BeautifulSoup(chrome.page_source, 'lxml')\n",
    "for name in html.select('#mCSB_2_container ul li a p'):\n",
    "    aname.append(name.text)\n",
    "    print(name.text)"
   ]
  },
  {
   "cell_type": "markdown",
   "id": "a7022522-7f4f-47dd-80ea-9133faef0812",
   "metadata": {
    "tags": []
   },
   "source": [
    "# 아파트 클릭"
   ]
  },
  {
   "cell_type": "code",
   "execution_count": null,
   "id": "368bb3d6-b1f2-47a2-9198-9a96152df00d",
   "metadata": {},
   "outputs": [],
   "source": [
    "# 첫번째 아파트 클릭\n",
    "chrome.find_element(By.CSS_SELECTOR,'#mCSB_2_container ul li:nth-child(1) a').click()"
   ]
  },
  {
   "cell_type": "markdown",
   "id": "0be72057-025e-4fde-9352-dc2a269f5861",
   "metadata": {},
   "source": [
    "# 마지막 아파트 클릭 - 보이지 않아서 클릭불가!\n",
    "chrome.find_element(By.CSS_SELECTOR,'#mCSB_2_container ul li:nth-child(2) a').click()"
   ]
  },
  {
   "cell_type": "markdown",
   "id": "5cd21611-a4eb-4f04-b2fe-3308083536d4",
   "metadata": {},
   "source": [
    "# 클릭대상 아파트의 idx 파악"
   ]
  },
  {
   "cell_type": "markdown",
   "id": "f2261a08-512d-4f08-80d6-79274d6ace22",
   "metadata": {},
   "source": [
    "print(aname.index('삼성롯데')+1)"
   ]
  },
  {
   "cell_type": "code",
   "execution_count": 208,
   "id": "48046cf9-1b37-4b13-bb93-f95007c7f0fd",
   "metadata": {},
   "outputs": [
    {
     "data": {
      "text/plain": [
       "16"
      ]
     },
     "execution_count": 208,
     "metadata": {},
     "output_type": "execute_result"
    }
   ],
   "source": [
    "aptname = '아이파크삼성동'\n",
    "idx = 1\n",
    "\n",
    "for apt in html.select('p.aptS_rLName'):\n",
    "     if apt.text == aptname: break\n",
    "     idx += 1\n",
    "idx"
   ]
  },
  {
   "cell_type": "markdown",
   "id": "9235c52e-f4ca-401d-beb0-7973fa7875f4",
   "metadata": {},
   "source": [
    "# 결과 목록 자동 스크롤"
   ]
  },
  {
   "cell_type": "code",
   "execution_count": 209,
   "id": "355efa90-1973-4ada-9cc0-5edd78a365c8",
   "metadata": {},
   "outputs": [
    {
     "data": {
      "text/plain": [
       "{'height': 57, 'width': 329}"
      ]
     },
     "execution_count": 209,
     "metadata": {},
     "output_type": "execute_result"
    }
   ],
   "source": [
    "# 결과 목록 각 항목 높이 알아내기\n",
    "elm = chrome.find_element(By.CSS_SELECTOR,'#mCSB_2_container ul li:nth-child(1)')\n",
    "elm.size"
   ]
  },
  {
   "cell_type": "code",
   "execution_count": 210,
   "id": "e218da70-e283-44f1-832b-0c3b2d5ce6da",
   "metadata": {},
   "outputs": [],
   "source": [
    "# 현재 화면에 출력된 결과목록 수 : 4\n",
    "height = elm.size['height']\n",
    "pos = '-' + str((idx - 4) * height) + 'px'\n",
    "elm = chrome.find_element(By.CSS_SELECTOR,'#mCSB_2_container')\n",
    "chrome.execute_script(\n",
    "    f'arguments[0].style=\"position: relative; top: {pos}; left: 0px;\"', elm)\n",
    "time.sleep(1)"
   ]
  },
  {
   "cell_type": "markdown",
   "id": "da6adfb3-ceab-412a-92d0-df46122881c7",
   "metadata": {},
   "source": [
    "# 대상 항목 클릭"
   ]
  },
  {
   "cell_type": "code",
   "execution_count": 211,
   "id": "344fe424-1c61-4f57-b83a-f3f67d3c9d50",
   "metadata": {},
   "outputs": [],
   "source": [
    "chrome.find_element(By.CSS_SELECTOR,f'#mCSB_2_container ul li:nth-child({idx})').click()"
   ]
  },
  {
   "cell_type": "markdown",
   "id": "4c55ed75-8e11-4436-82cf-c017c4703256",
   "metadata": {},
   "source": [
    "# 관리시설 정보로 이동"
   ]
  },
  {
   "cell_type": "code",
   "execution_count": 212,
   "id": "c455c356-5a01-470e-88ce-4f478b9329bd",
   "metadata": {},
   "outputs": [],
   "source": [
    "chrome.find_element(By.CSS_SELECTOR,'ul.lnbNav li:nth-child(3) a').click()"
   ]
  },
  {
   "cell_type": "markdown",
   "id": "922d4daf-2364-44e4-ab65-bf96ab0ac7ec",
   "metadata": {},
   "source": [
    "chrome.find_element(By.XPATH,'//a[@title=\"관리시설정보\"]').click()"
   ]
  },
  {
   "cell_type": "markdown",
   "id": "9cec195e-eba4-4ef8-89c6-6346d97a06ff",
   "metadata": {
    "tags": []
   },
   "source": [
    "# 주차대수 추출"
   ]
  },
  {
   "cell_type": "code",
   "execution_count": 213,
   "id": "f84a36f4-a822-4de6-ac11-8814960c0f82",
   "metadata": {},
   "outputs": [],
   "source": [
    "top = chrome.find_element(By.ID,'kaptd_pcnt').text"
   ]
  },
  {
   "cell_type": "code",
   "execution_count": 214,
   "id": "9a9235ad-fc6c-42ca-a721-f3e45c3ff4f7",
   "metadata": {},
   "outputs": [],
   "source": [
    "bottom = chrome.find_element(By.ID,'kaptd_pcntu').text"
   ]
  },
  {
   "cell_type": "code",
   "execution_count": 215,
   "id": "4fe0ddfc-40b8-4278-8aa3-20c3ceb2dd1d",
   "metadata": {},
   "outputs": [
    {
     "data": {
      "text/plain": [
       "('0', '1247')"
      ]
     },
     "execution_count": 215,
     "metadata": {},
     "output_type": "execute_result"
    }
   ],
   "source": [
    "top,bottom"
   ]
  },
  {
   "cell_type": "code",
   "execution_count": null,
   "id": "62bdd7c1-3aa8-4899-a922-4e7d15bf714d",
   "metadata": {},
   "outputs": [],
   "source": [
    "chrome.close()"
   ]
  },
  {
   "cell_type": "code",
   "execution_count": null,
   "id": "eb8fb660-e490-4c0c-a00b-bc4683283398",
   "metadata": {},
   "outputs": [],
   "source": []
  }
 ],
 "metadata": {
  "kernelspec": {
   "display_name": "Python 3 (ipykernel)",
   "language": "python",
   "name": "python3"
  },
  "language_info": {
   "codemirror_mode": {
    "name": "ipython",
    "version": 3
   },
   "file_extension": ".py",
   "mimetype": "text/x-python",
   "name": "python",
   "nbconvert_exporter": "python",
   "pygments_lexer": "ipython3",
   "version": "3.9.13"
  }
 },
 "nbformat": 4,
 "nbformat_minor": 5
}
