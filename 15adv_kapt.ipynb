{
 "cells": [
  {
   "cell_type": "markdown",
   "id": "bd3a6112-c804-4408-8326-5cc9e1ac728e",
   "metadata": {},
   "source": [
    "## 아파트 단지 정보에서 주차장 정보 추출\n",
    " + 관련 사이트 : k-apt.go.kr\n",
    " + 메인페이지 팝업창 닫기 => '단지정보' 클릭\n",
    " + 2022.06, 서울, 서초구, 반포동 소재 모든 아파트에 대한 정보 추출\n",
    " + 아파트명, 도로명주소, 주차장 정보"
   ]
  },
  {
   "cell_type": "code",
   "execution_count": 207,
   "id": "aceb8f77-0548-4130-9f78-d9dad5630fb7",
   "metadata": {},
   "outputs": [],
   "source": [
    "import time\n",
    "from bs4 import BeautifulSoup\n",
    "\n",
    "from selenium.webdriver.chrome.service import Service\n",
    "from webdriver_manager.chrome import ChromeDriverManager\n",
    "from selenium import webdriver\n",
    "from selenium.webdriver.support.select import Select\n",
    "from selenium.webdriver.common.by import By"
   ]
  },
  {
   "cell_type": "code",
   "execution_count": 208,
   "id": "bd109349-1a4f-4da5-9227-5746b3932e48",
   "metadata": {},
   "outputs": [],
   "source": [
    "# 저장할 정보\n",
    "aptname, address, parl = [],[],[]"
   ]
  },
  {
   "cell_type": "code",
   "execution_count": 209,
   "id": "80d9bab5-8e8b-47ec-9f69-989df7768229",
   "metadata": {},
   "outputs": [],
   "source": [
    "syear = '2022년'\n",
    "smonth = '06월'\n",
    "ssido = '서울특별시'\n",
    "sgugun = '서초구'\n",
    "sdong = '반포동'"
   ]
  },
  {
   "cell_type": "markdown",
   "id": "1e58ecb4-5214-4689-8e25-102b02ca27bf",
   "metadata": {},
   "source": [
    "# 함수"
   ]
  },
  {
   "cell_type": "code",
   "execution_count": 210,
   "id": "e475610f-fadb-431c-b1af-aa3909338b4e",
   "metadata": {},
   "outputs": [],
   "source": [
    "def select():\n",
    "    year = Select(chrome.find_element(By.NAME,'searchYYYY'))\n",
    "    year.select_by_visible_text(syear)\n",
    "    time.sleep(1)\n",
    "\n",
    "    month = Select(chrome.find_element(By.NAME,'searchMM'))\n",
    "    month.select_by_visible_text(smonth)\n",
    "    time.sleep(1)\n",
    "\n",
    "    sido = Select(chrome.find_element(By.NAME,'combo_SIDO'))\n",
    "    sido.select_by_visible_text(ssido)\n",
    "    time.sleep(2)\n",
    "\n",
    "    gugun = Select(chrome.find_element(By.NAME,'combo_SGG'))\n",
    "    gugun.select_by_visible_text(sgugun)\n",
    "    time.sleep(2)\n",
    "\n",
    "    dong = Select(chrome.find_element(By.NAME,'combo_EMD'))\n",
    "    dong.select_by_visible_text(sdong)\n",
    "    time.sleep(1)  "
   ]
  },
  {
   "cell_type": "code",
   "execution_count": 211,
   "id": "a3f25362-6719-474c-8633-dfa6aeb1daf4",
   "metadata": {},
   "outputs": [],
   "source": [
    "def scroll(idx):\n",
    "    elm = chrome.find_element(By.CSS_SELECTOR,f'#mCSB_2_container ul li:nth-child({idx})')\n",
    "    \n",
    "    height = elm.size['height']\n",
    "    pos = '-' + str((idx - 4) * height) + 'px'\n",
    "    elm = chrome.find_element(By.CSS_SELECTOR,'#mCSB_2_container')\n",
    "    chrome.execute_script(\n",
    "        f'arguments[0].style=\"position: relative; top: {pos}; left: 0px;\"', elm)\n",
    "    time.sleep(1)"
   ]
  },
  {
   "cell_type": "markdown",
   "id": "0f824e74-af05-419c-9b74-7edeff396862",
   "metadata": {},
   "source": [
    "# 크롬 실행"
   ]
  },
  {
   "cell_type": "code",
   "execution_count": 220,
   "id": "b3d0dfbc-10e3-46d4-b67f-09a4356955bb",
   "metadata": {},
   "outputs": [],
   "source": [
    "options = webdriver.ChromeOptions()\n",
    "services = Service(ChromeDriverManager().install())  # 드라이버 자동설치\n",
    "chrome = webdriver.Chrome(service=services, options=options)"
   ]
  },
  {
   "cell_type": "code",
   "execution_count": 221,
   "id": "5c13498b-e719-4bf1-95b3-6d498e9c2bbe",
   "metadata": {},
   "outputs": [],
   "source": [
    "url = 'http://www.k-apt.go.kr/'\n",
    "\n",
    "chrome.get(url)\n",
    "\n",
    "chrome.maximize_window() # 창 최대로 키우기\n",
    "time.sleep(2)"
   ]
  },
  {
   "cell_type": "code",
   "execution_count": 222,
   "id": "c09ae686-e4d8-45b8-b8ba-7ba23e187d5f",
   "metadata": {},
   "outputs": [],
   "source": [
    "chrome.find_element(By.CSS_SELECTOR,'.fas').click()\n",
    "time.sleep(1)"
   ]
  },
  {
   "cell_type": "code",
   "execution_count": 223,
   "id": "46381e18-4d11-49c7-8220-e9b5f64b4bb6",
   "metadata": {},
   "outputs": [],
   "source": [
    "chrome.find_element(By.XPATH,'//a[@title=\"단지정보\"]').click()\n",
    "\n",
    "chrome.find_element(By.XPATH,'//a[@title=\"우리단지 기본정보\"]').click()\n",
    "time.sleep(3)"
   ]
  },
  {
   "cell_type": "code",
   "execution_count": 216,
   "id": "f2e8c546-d542-4775-85e7-59bacea41635",
   "metadata": {},
   "outputs": [],
   "source": [
    "# 아파트 개수 산정\n",
    "select()\n",
    "html = BeautifulSoup(chrome.page_source, 'lxml')\n",
    "aptnum = len(html.select('#mCSB_2_container ul li a p'))"
   ]
  },
  {
   "cell_type": "markdown",
   "id": "7239605e-08f5-4452-9771-28db119555e9",
   "metadata": {
    "tags": []
   },
   "source": [
    "# 반복 시작"
   ]
  },
  {
   "cell_type": "code",
   "execution_count": null,
   "id": "e1559039-17d5-46ae-a469-c5cafd0a13fb",
   "metadata": {},
   "outputs": [],
   "source": [
    "for apt in range(14,aptnum+1):\n",
    "    select()\n",
    "    \n",
    "    scroll(apt)\n",
    "    \n",
    "    # 아파트명 저장\n",
    "    aptname.append(chrome.find_element(By.CSS_SELECTOR,f'#mCSB_2_container ul li:nth-child({apt}) a p').text)\n",
    "    \n",
    "    # 우리단지 기본정보 이동\n",
    "    chrome.find_element(By.CSS_SELECTOR,f'#mCSB_2_container ul li:nth-child({apt})').click()\n",
    "    time.sleep(3)\n",
    "    \n",
    "    # 도로명주소 저장\n",
    "    address.append(chrome.find_element(By.ID,'addrList_addr2').text)\n",
    "    \n",
    "    # 관리시설정보 이동\n",
    "    chrome.find_element(By.CSS_SELECTOR,'ul.lnbNav li:nth-child(3) a').click()\n",
    "    time.sleep(2)\n",
    "    \n",
    "    # 주차장 정보 저장\n",
    "    on = chrome.find_element(By.ID,'kaptd_pcnt').text\n",
    "    bot = chrome.find_element(By.ID,'kaptd_pcntu').text\n",
    "    tot = chrome.find_element(By.ID,'kaptd_total_pcnt').text\n",
    "    parl.append(f'지상: {on} | 지하: {bot} | 총 {tot}대')\n",
    "    time.sleep(2)\n",
    "    # 뺵\n",
    "    chrome.back()\n",
    "    time.sleep(3)\n",
    "    chrome.back()\n",
    "    \n",
    "    time.sleep(3)"
   ]
  },
  {
   "cell_type": "code",
   "execution_count": 225,
   "id": "3215690a-e63c-4a97-99d8-45a30c269dd8",
   "metadata": {},
   "outputs": [
    {
     "data": {
      "text/plain": [
       "(['디에이치반포라클라스',\n",
       "  '래미안퍼스티지',\n",
       "  '반포래미안아이파크',\n",
       "  '반포리체',\n",
       "  '반포미도2차',\n",
       "  '반포미도아파트',\n",
       "  '반포본동아파트',\n",
       "  '반포삼호가든4차맨션',\n",
       "  '반포삼호가든맨션5차',\n",
       "  '반포써밋',\n",
       "  '반포자이',\n",
       "  '반포푸르지오',\n",
       "  '반포한신서래'],\n",
       " ['서울특별시 서초구 서초중앙로 206',\n",
       "  '서울특별시 서초구 반포대로 275',\n",
       "  '서울특별시 서초구 서초중앙로 220',\n",
       "  '서울특별시 서초구 고무래로 35',\n",
       "  '서울특별시 서초구 사평대로 240',\n",
       "  '서울특별시 서초구 서초중앙로29길 28',\n",
       "  '서울특별시 서초구 신반포로3길 14',\n",
       "  '',\n",
       "  '서울특별시 서초구 서초중앙로 242',\n",
       "  '서울특별시 서초구 고무래로 89',\n",
       "  '서울특별시 서초구 신반포로 270',\n",
       "  '서울특별시 서초구 신반포로15길 4',\n",
       "  '서울특별시 서초구 사평대로28길 31'],\n",
       " ['지상: 0 | 지하: 1523 | 총 1523대',\n",
       "  '지상: 0 | 지하: 4368 | 총 4368대',\n",
       "  '지상: 7 | 지하: 1339 | 총 1346대',\n",
       "  '지상: 42 | 지하: 1642 | 총 1684대',\n",
       "  '지상: 340 | 지하: 0 | 총 340대',\n",
       "  '지상: 1006 | 지하: 100 | 총 1106대',\n",
       "  '지상: 4026 | 지하: 0 | 총 4026대',\n",
       "  '지상: 450 | 지하: 0 | 총 450대',\n",
       "  '지상: 215 | 지하: 0 | 총 215대',\n",
       "  '지상: 0 | 지하: 1192 | 총 1192대',\n",
       "  '지상: 0 | 지하: 6075 | 총 6075대',\n",
       "  '지상: 0 | 지하: 250 | 총 250대',\n",
       "  '지상: 257 | 지하: 40 | 총 297대'])"
      ]
     },
     "execution_count": 225,
     "metadata": {},
     "output_type": "execute_result"
    }
   ],
   "source": [
    "aptname, address, parl "
   ]
  },
  {
   "cell_type": "code",
   "execution_count": 219,
   "id": "30f23806-0337-4cce-8c82-38eae230e8bd",
   "metadata": {},
   "outputs": [],
   "source": [
    "chrome.close()"
   ]
  },
  {
   "cell_type": "markdown",
   "id": "1ba98aa3-f05a-4754-97e2-65037abf8da8",
   "metadata": {},
   "source": [
    "chrome.back()"
   ]
  },
  {
   "cell_type": "code",
   "execution_count": null,
   "id": "599bc856-acfd-4c6f-892e-05c122176aed",
   "metadata": {},
   "outputs": [],
   "source": []
  }
 ],
 "metadata": {
  "kernelspec": {
   "display_name": "Python 3 (ipykernel)",
   "language": "python",
   "name": "python3"
  },
  "language_info": {
   "codemirror_mode": {
    "name": "ipython",
    "version": 3
   },
   "file_extension": ".py",
   "mimetype": "text/x-python",
   "name": "python",
   "nbconvert_exporter": "python",
   "pygments_lexer": "ipython3",
   "version": "3.9.13"
  }
 },
 "nbformat": 4,
 "nbformat_minor": 5
}
