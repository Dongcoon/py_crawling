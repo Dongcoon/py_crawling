{
 "cells": [
  {
   "cell_type": "markdown",
   "id": "077e2c53-8943-4640-9fc9-7cbb10e28618",
   "metadata": {},
   "source": [
    "## 아파트 단지 정보에서 주차장 정보 추출\n",
    " + 관련 사이트 : k-apt.go.kr\n",
    " + 메인페이지 팝업창 닫기 => '단지정보' 클릭\n",
    " + 2022.06, 서울, 서초구, 반포동 소재 모든 아파트에 대한 정보 추출\n",
    " + 아파트명, 도로명주소, 주차장 정보"
   ]
  },
  {
   "cell_type": "code",
   "execution_count": 5,
   "id": "0c1b3f4c",
   "metadata": {},
   "outputs": [],
   "source": [
    "import time\n",
    "import requests as req\n",
    "from bs4 import BeautifulSoup"
   ]
  },
  {
   "cell_type": "code",
   "execution_count": null,
   "id": "d381de1a-3141-451d-bbae-a0fe576f6a72",
   "metadata": {},
   "outputs": [],
   "source": [
    "# 아파트 이름\n",
    "url = 'http://www.k-apt.go.kr/kaptinfo/getKaptInfo_poi.do'\n",
    "params = {'bjd_code':'11650107','search_date':'202209'}\n",
    "\n",
    "res = req.get(url, params=params)\n",
    "\n",
    "res.text"
   ]
  },
  {
   "cell_type": "code",
   "execution_count": null,
   "id": "83b29f4e-be03-4180-82b1-e805810e13e6",
   "metadata": {
    "scrolled": true,
    "tags": []
   },
   "outputs": [],
   "source": [
    "# 우리단지 기본정보\n",
    "url = 'http://www.k-apt.go.kr/kaptinfo/getKaptList.do'\n",
    "params = {'bjd_code':'11650107','search_date':'202209'}\n",
    "\n",
    "res = req.get(url, params=params)\n",
    "\n",
    "res.text"
   ]
  },
  {
   "cell_type": "code",
   "execution_count": null,
   "id": "fef662ed-1a46-4698-92a1-094a30157d92",
   "metadata": {},
   "outputs": [],
   "source": [
    "# 관리시설정보\n",
    "url = 'http://www.k-apt.go.kr/kaptinfo/getKaptInfo_detail.do'\n",
    "params = {'kapt_code':'A10024254'}\n",
    "\n",
    "res = req.get(url, params=params)\n",
    "\n",
    "res.text"
   ]
  },
  {
   "cell_type": "code",
   "execution_count": 17,
   "id": "651b5613-3ec6-468a-a29a-fc189753e24d",
   "metadata": {},
   "outputs": [],
   "source": [
    "import json\n",
    "html = BeautifulSoup(res.text, 'lxml')\n",
    "aptinfo = json.loads(res.text)\n"
   ]
  },
  {
   "cell_type": "code",
   "execution_count": 25,
   "id": "88d9fc71-014c-4f7c-9762-b43c8a98e4d3",
   "metadata": {},
   "outputs": [
    {
     "data": {
      "text/plain": [
       "('0', '1523')"
      ]
     },
     "execution_count": 25,
     "metadata": {},
     "output_type": "execute_result"
    }
   ],
   "source": [
    "# 주차정보 추출\n",
    "aptinfo.get('resultMap_kapt').get('KAPTD_PCNT'), \\\n",
    "aptinfo.get('resultMap_kapt').get('KAPTD_PCNTU')"
   ]
  },
  {
   "cell_type": "code",
   "execution_count": 24,
   "id": "b2841c50-d4a3-44ac-a39f-c9517f0c84dd",
   "metadata": {},
   "outputs": [
    {
     "data": {
      "text/plain": [
       "('A10024254', '서울특별시 서초구 서초중앙로 206')"
      ]
     },
     "execution_count": 24,
     "metadata": {},
     "output_type": "execute_result"
    }
   ],
   "source": [
    "# 도로정보\n",
    "aptinfo.get('resultMap_kapt_addrList')[1].get('KAPT_CODE'), \\\n",
    "aptinfo.get('resultMap_kapt_addrList')[1].get('ADDR')\n"
   ]
  },
  {
   "cell_type": "code",
   "execution_count": null,
   "id": "0f9d7f06-52a0-4cad-a954-3fff84b107ad",
   "metadata": {},
   "outputs": [],
   "source": []
  }
 ],
 "metadata": {
  "kernelspec": {
   "display_name": "Python 3.9.13 64-bit",
   "language": "python",
   "name": "python3"
  },
  "language_info": {
   "codemirror_mode": {
    "name": "ipython",
    "version": 3
   },
   "file_extension": ".py",
   "mimetype": "text/x-python",
   "name": "python",
   "nbconvert_exporter": "python",
   "pygments_lexer": "ipython3",
   "version": "3.9.13"
  },
  "vscode": {
   "interpreter": {
    "hash": "3ed665000513fafed223c4a9ba808b59f1db4eb939372fd67dd56667510ebfbc"
   }
  }
 },
 "nbformat": 4,
 "nbformat_minor": 5
}
